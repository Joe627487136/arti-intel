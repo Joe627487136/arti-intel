{
 "cells": [
  {
   "cell_type": "markdown",
   "metadata": {},
   "source": [
    "# Artificial Intelligence - Week 1 Homework\n",
    "\n"
   ]
  },
  {
   "cell_type": "markdown",
   "metadata": {},
   "source": [
    "## Question 1"
   ]
  },
  {
   "cell_type": "markdown",
   "metadata": {},
   "source": [
    "We start by including the Gaussian distribution used to draw the X\n",
    "\n",
    "$$ p(x, y) = \\sum_{i\\in (1,2)} p(x, y, c(x)=i)$$\n",
    "$$ \\hspace{30mm} = \\sum_{i\\in (1,2)} p(x, y \\mid c(x)=i) \\cdot p(c(x)=i)$$\n",
    "\n",
    "as $y$ and $x$ are independent, but both are dependent on $c(x)$, it can be written as follows.\n",
    "\n",
    "$$ p(x,y) = \\sum_{i \\in (1,2)} p(x \\mid c(x)=i) \\cdot p(y \\mid c(x)=i) \\cdot p(c(x)=i) $$\n",
    "\n",
    "where\n",
    "\n",
    "$$ p(x \\mid c(x)) = \\left\\{\n",
    "                 \\begin{array}{ll}\n",
    "                     \\sim N\\left( \\begin{bmatrix} 0 \\\\ 0 \\end{bmatrix} , \\begin{bmatrix} 9 & 0 \\\\ 0 & 1\\end{bmatrix} \\right) & if \\space c(x) = 1 \\\\\n",
    "                     \\sim N\\left( \\begin{bmatrix} 2.5 \\\\ 0 \\end{bmatrix} , \\begin{bmatrix} 9 & 0 \\\\ 0 & 1\\end{bmatrix} \\right) & if \\space c(x) = 2 \\\\\n",
    "                 \\end{array}\\right.$$\n",
    "                 \n",
    "$$ p(y=0 \\mid c(x)) = \\left\\{\n",
    "                 \\begin{array}{ll}\n",
    "                     0.8 & if \\space c(x) = 1 \\\\\n",
    "                     0.7 & if \\space c(x) = 2 \\\\\n",
    "                 \\end{array}\\right.$$\n",
    "                 \n",
    "$$ and \\quad p(c(x)=1) = 0.8 $$\n",
    "                   \n",
    "Thus the distribution becomes\n",
    "\n",
    "$$ \\hspace{16mm} p(x,y) = p(x \\mid c(x)=1) \\cdot p(y \\mid c(x)=1) \\cdot p(c(x)=1) + p(x \\mid c(x)=2) \\cdot p(y \\mid c(x)=2) \\cdot p(c(x)=2)$$\n",
    "\n",
    "$$ = \\left\\{\n",
    "        \\begin{array}{ll}\n",
    "            p(x \\mid c(x)=1) \\cdot 0.8 \\cdot 0.8 + p(x \\mid c(x)=2) \\cdot 0.7 \\cdot 0.2 & if \\space y=0 \\\\\n",
    "            p(x \\mid c(x)=1) \\cdot 0.2 \\cdot 0.8 + p(x \\mid c(x)=2) \\cdot 0.3 \\cdot 0.2 & if \\space y=1 \\\\\n",
    "        \\end{array}\n",
    "     \\right.$$\n",
    "     \n",
    "$$ = \\left\\{\n",
    "        \\begin{array}{ll}\n",
    "             0.64 \\cdot X \\sim N\\left( \\begin{bmatrix} 0 \\\\ 0 \\end{bmatrix} , \\begin{bmatrix} 9 & 0 \\\\ 0 & 1\\end{bmatrix} \\right) + 0.14 \\cdot X \\sim N\\left( \\begin{bmatrix} 2.5 \\\\ 0 \\end{bmatrix} , \\begin{bmatrix} 9 & 0 \\\\ 0 & 1\\end{bmatrix} \\right) & if \\space y=0 \\\\\n",
    "             0.16 \\cdot X \\sim N\\left( \\begin{bmatrix} 0 \\\\ 0 \\end{bmatrix} , \\begin{bmatrix} 9 & 0 \\\\ 0 & 1\\end{bmatrix} \\right) + 0.06 \\cdot X \\sim N\\left( \\begin{bmatrix} 2.5 \\\\ 0 \\end{bmatrix} , \\begin{bmatrix} 9 & 0 \\\\ 0 & 1\\end{bmatrix} \\right) & if \\space y=1 \\\\\n",
    "        \\end{array}\n",
    "     \\right.$$\n",
    "\n",
    "$$ p(x,y) = \\left\\{\n",
    "        \\begin{array}{ll}\n",
    "             X \\sim N\\left( \\begin{bmatrix} 0.35 \\\\ 0 \\end{bmatrix} , \\begin{bmatrix} 3.8628 & 0 \\\\ 0 & 0.4292\\end{bmatrix} \\right) & if \\space y=0 \\\\\n",
    "             X \\sim N\\left( \\begin{bmatrix} 0.15 \\\\ 0 \\end{bmatrix} , \\begin{bmatrix} 8.29 \\times 10^{-4} & 0 \\\\ 0 & 9.21 \\times 10^{-5}\\end{bmatrix} \\right) & if \\space y=1 \\\\\n",
    "        \\end{array}\n",
    "     \\right.$$\n"
   ]
  },
  {
   "cell_type": "markdown",
   "metadata": {},
   "source": [
    "## Question 2"
   ]
  },
  {
   "cell_type": "markdown",
   "metadata": {},
   "source": [
    "**1. Show that the solution for optimum weight $\\tilde w$ still takes the similar form.**\n",
    "\n",
    "Starting from the loss function,\n",
    "\n",
    "$$ Loss = \\frac{1}{2N} \\sum_{i=1}^{n} (y_i - \\phi(x_i) \\cdot w)^2$$\n",
    "$$ Loss = \\frac{1}{2N} \\space (Y - \\Phi \\cdot w)^T \\space (Y - \\Phi \\cdot w) \\quad (converting \\space to \\space matrix)$$\n",
    "$$ \\frac{dLoss}{dw} = \\frac{1}{2N} \\space  (- 2\\Phi^T) \\space (Y - \\Phi \\cdot w) \\quad (differentiation)$$\n",
    "$$ 0 = \\Phi^T \\cdot Y - \\Phi^T \\cdot \\Phi \\cdot w \\quad (minimizing)$$\n",
    "$$ \\Phi^T \\cdot \\Phi \\cdot w = \\Phi^T \\cdot Y $$\n",
    "$$ w = (\\Phi^T \\cdot \\Phi)^{-1} (\\Phi^T \\cdot Y) $$\n",
    "\n",
    "\n",
    "**2. Write $f(z)$ in terms of $K$ and $Y$, where $k(x, z) = \\phi(x) \\cdot \\phi(z)$ **\n",
    "\n",
    "using $w = \\Phi^T \\cdot v$,\n",
    "\n",
    "$$ Loss = \\frac{1}{2N} \\space (Y - \\Phi \\cdot \\Phi^T \\cdot v)^T \\space (Y - \\Phi \\cdot \\Phi^T \\cdot v)$$\n",
    "$$ \\frac{dLoss}{dv} = \\frac{1}{2N} \\space  (- 2(\\Phi \\cdot \\Phi^T)^T) \\space (Y - \\Phi \\cdot \\Phi^T \\cdot v)$$\n",
    "$$ 0 =  (\\Phi \\cdot \\Phi^T)^T \\space (Y - \\Phi \\cdot \\Phi^T \\cdot v)$$\n",
    "$$ 0 =  (\\Phi^T \\cdot \\Phi) \\space (Y - \\Phi \\cdot \\Phi^T \\cdot v)$$\n",
    "$$ 0 =  \\Phi^T \\cdot \\Phi \\cdot Y - \\Phi^T \\cdot \\Phi \\cdot \\Phi \\cdot \\Phi^T \\cdot v$$\n",
    "$$ \\Phi^T \\cdot \\Phi \\cdot \\Phi \\cdot \\Phi^T \\cdot v =  \\Phi^T \\cdot \\Phi \\cdot Y  $$\n",
    "$$  v =  (\\Phi^T \\cdot \\Phi \\cdot \\Phi \\cdot \\Phi^T)^{-1} \\Phi^T \\cdot \\Phi \\cdot Y  $$\n",
    "\n",
    "where\n",
    "      \n",
    "$$ \\Phi^T \\cdot \\Phi = \\begin{bmatrix}\n",
    "             \\phi(x_1) & \\phi(x_2) & \\ldots & \\phi(x_n) \\\\\n",
    "     \\end{bmatrix} \n",
    "     \\begin{bmatrix}\n",
    "             \\phi(x_1) \\\\\n",
    "             \\phi(x_2) \\\\\n",
    "             \\vdots \\\\\n",
    "             \\phi(x_n) \\\\\n",
    "     \\end{bmatrix}\n",
    "     $$\n",
    "     \n",
    "$$ = \\begin{bmatrix}\n",
    "             \\phi(x_1) \\cdot \\phi(x_1) + \\phi(x_2) \\cdot \\phi(x_2) + \\ldots + \\phi(x_n) \\cdot \\phi(x_n) \\\\\n",
    "     \\end{bmatrix} $$\n",
    "     \n",
    "$$ = \\kappa(x_1, x_1) + \\kappa(x_2, x_2) + \\ldots + \\kappa(x_n, x_n) $$\n",
    "\n",
    "$$ = \\sum_{i=i}^{n} \\kappa(x_i,x_i) $$\n",
    "\n",
    "and,\n",
    "\n",
    "      \n",
    "$$ \\Phi \\cdot \\Phi^T = \\begin{bmatrix}\n",
    "             \\phi(x_1) \\\\\n",
    "             \\phi(x_2) \\\\\n",
    "             \\vdots \\\\\n",
    "             \\phi(x_n) \\\\\n",
    "     \\end{bmatrix}\n",
    "     \\begin{bmatrix}\n",
    "             \\phi(x_1) & \\phi(x_2) & \\ldots & \\phi(x_n) \\\\\n",
    "     \\end{bmatrix} \n",
    "     $$\n",
    "     \n",
    "$$ = \\begin{bmatrix}\n",
    "        \\phi(x_1) \\cdot \\phi(x_1) & \\phi(x_1) \\cdot \\phi(x_2) & \\ldots & \\phi(x_1) \\cdot \\phi(x_n) \\\\\n",
    "        \\phi(x_2) \\cdot \\phi(x_1) & \\phi(x_2) \\cdot \\phi(x_2) & \\ldots & \\phi(x_2) \\cdot \\phi(x_n) \\\\\n",
    "        \\vdots & \\vdots & \\ddots & \\vdots \\\\\n",
    "        \\phi(x_n) \\cdot \\phi(x_1) & \\phi(x_n) \\cdot \\phi(x_2) & \\ldots & \\phi(x_n) \\cdot \\phi(x_n) \\\\\n",
    "     \\end{bmatrix}$$\n",
    "     \n",
    "$$ = \\begin{bmatrix}\n",
    "        \\kappa(x_1, x_1) & \\kappa(x_1, x_2) & \\ldots & \\kappa(x_1, x_n) \\\\\n",
    "        \\kappa(x_2, x_1) & \\kappa(x_2, x_2) & \\ldots & \\kappa(x_2, x_n) \\\\\n",
    "        \\vdots & \\vdots & \\ddots & \\vdots \\\\\n",
    "        \\kappa(x_n, x_1) & \\kappa(x_n, x_2) & \\ldots & \\kappa(x_n, x_n) \\\\\n",
    "     \\end{bmatrix} = K $$\n",
    "     \n",
    "$$ \\Phi \\cdot \\Phi^T = K $$\n",
    "\n",
    "therefore,\n",
    "\n",
    "$$ v = \\left(\\sum_{i=i}^{n} \\kappa(x_i,x_i) \\cdot K\\right)^{-1} \\left(\\sum_{i=i}^{n} \\kappa(x_i,x_i) \\cdot Y\\right)$$\n",
    "\n",
    "$$ f(z) = \\phi(z) \\cdot \\Phi^T \\cdot v $$\n",
    "\n",
    "$$ f(z) = \\begin{bmatrix} \\phi(z) \\cdot \\phi(x_1) & \\phi(z) \\cdot \\phi(x_2) & \\ldots & \\phi(z) \\cdot \\phi(x_n) \\end{bmatrix} \\cdot v $$\n",
    "\n",
    "$$ f(z) = \\begin{bmatrix} \\kappa(z, x_1) & \\kappa(z, x_2) & \\ldots & \\kappa(z, x_n) \\end{bmatrix} \\cdot v $$\n",
    "\n",
    "$$ f(z) = \\begin{bmatrix} \\kappa(z, x_1) & \\kappa(z, x_2) & \\ldots & \\kappa(z, x_n) \\end{bmatrix} \\cdot \\left(\\sum_{i=i}^{n} \\kappa(x_i,x_i) \\cdot K\\right)^{-1} \\left(\\sum_{i=i}^{n} \\kappa(x_i,x_i) \\cdot Y\\right) $$"
   ]
  },
  {
   "cell_type": "markdown",
   "metadata": {},
   "source": [
    "## Question 3\n",
    "### I. Linear Features"
   ]
  },
  {
   "cell_type": "code",
   "execution_count": 1,
   "metadata": {},
   "outputs": [],
   "source": [
    "import numpy as np\n",
    "import matplotlib.pyplot as plt"
   ]
  },
  {
   "cell_type": "markdown",
   "metadata": {},
   "source": [
    "a) Write a routine that loads a data file and returns a matrix X containing all xi as rows,\n",
    "and a vector y containing all yi"
   ]
  },
  {
   "cell_type": "code",
   "execution_count": 2,
   "metadata": {},
   "outputs": [],
   "source": [
    "def load_dataset(filename):\n",
    "    x = []\n",
    "    y = []\n",
    "    with open(filename, 'r') as inputfile:\n",
    "        for iline in inputfile:\n",
    "            data = iline.strip('\\n').split()\n",
    "            # filling y\n",
    "            y.append(float(data[-1]))\n",
    "            # filling x\n",
    "            x.append([float(xi) for xi in data[:-1]])\n",
    "    X = np.asarray(x)\n",
    "    Y = np.asarray(y)\n",
    "    \n",
    "    return X, Y\n",
    "\n",
    "# testing\n",
    "x1d, y1d = load_dataset('dataLinReg1D.txt')\n",
    "x2d, y2d = load_dataset('dataLinReg2D.txt')\n",
    "# print(x1d)"
   ]
  },
  {
   "cell_type": "markdown",
   "metadata": {},
   "source": [
    "b) Write a routine that takes the raw X as input and returns a new X with a ’1’ pre-pended\n",
    "to each row. This routine simply computes the linear features including the constant\n",
    "’1’. This routine can later be replaced by others to work with non-linear features."
   ]
  },
  {
   "cell_type": "code",
   "execution_count": 3,
   "metadata": {},
   "outputs": [],
   "source": [
    "def linear_transform(X):\n",
    "    return np.append(X, np.ones((X.shape[0],1)), axis=1)\n",
    "\n",
    "# testing\n",
    "x1d_appended = linear_transform(x1d)\n",
    "# print(x1d_appended)"
   ]
  },
  {
   "cell_type": "markdown",
   "metadata": {},
   "source": [
    "c) Write a routine that returns the optimal w from X and y - analytically, not by gradient\n",
    "descent."
   ]
  },
  {
   "cell_type": "code",
   "execution_count": 4,
   "metadata": {},
   "outputs": [
    {
     "name": "stdout",
     "output_type": "stream",
     "text": [
      "[ 0.54359668 -0.79145962]\n"
     ]
    }
   ],
   "source": [
    "def ridge_regression(X, Y, lamb=1e-3):\n",
    "    pre = np.linalg.inv(np.matmul(X.T, X) + lamb * np.eye(X.shape[1]))\n",
    "    post = np.matmul(X.T, Y)\n",
    "    return np.matmul(pre, post)\n",
    "\n",
    "# testing\n",
    "w = ridge_regression(x1d_appended, y1d)\n",
    "print(w)"
   ]
  },
  {
   "cell_type": "markdown",
   "metadata": {},
   "source": [
    "d) Generate some test data points (along a grid) and collect them in a matrix Z. Apply\n",
    "routine b) to compute features. Compute the predictions y = Zw (simple matrix\n",
    "multiplication) on the test data and plot it."
   ]
  },
  {
   "cell_type": "code",
   "execution_count": 5,
   "metadata": {},
   "outputs": [
    {
     "data": {
      "image/png": "[encoded data removed]",
      "text/plain": [
       "<matplotlib.figure.Figure at 0x2000aee0eb8>"
      ]
     },
     "metadata": {},
     "output_type": "display_data"
    }
   ],
   "source": [
    "def plot_z_matrix(X, Y, count=50):\n",
    "    Xi = linear_transform(X)\n",
    "    w = ridge_regression(Xi, Y)\n",
    "    Z = np.random.randn(count, 1)\n",
    "    Zi = linear_transform(Z)\n",
    "    Yz = np.matmul(Zi, w)\n",
    "    \n",
    "    plt.plot(X, Y, '.r')\n",
    "    plt.plot(Z, Yz, '.b')\n",
    "\n",
    "# testing on 1d\n",
    "plot_z_matrix(x1d, y1d)"
   ]
  },
  {
   "cell_type": "markdown",
   "metadata": {},
   "source": [
    "### II. Cross-validation"
   ]
  },
  {
   "cell_type": "code",
   "execution_count": 6,
   "metadata": {},
   "outputs": [],
   "source": [
    "import math\n",
    "\n",
    "def rbf(x, y, alp=1e-3):\n",
    "    norm = np.linalg.norm((x-y))\n",
    "    return np.exp(-(norm/alp)**2)\n",
    "    \n",
    "\n",
    "def rbf_transform(X, alp=1e-3):\n",
    "    rbfX = np.zeros((X.shape[0], X.shape[0]))\n",
    "    \n",
    "    for i in range(X.shape[0]):\n",
    "        for j in range(X.shape[0]):\n",
    "            rbfX[i, j] = rbf(X[i,:], X[j,:], alp=alp)\n",
    "            \n",
    "    return rbfX\n",
    "\n",
    "# testing\n",
    "rx1d = rbf_transform(x1d)\n",
    "    "
   ]
  },
  {
   "cell_type": "code",
   "execution_count": 7,
   "metadata": {},
   "outputs": [
    {
     "name": "stdout",
     "output_type": "stream",
     "text": [
      "0.356339485197268\n"
     ]
    }
   ],
   "source": [
    "def loss(X, Y, w, lamb):\n",
    "    Yi = np.matmul(X, w)\n",
    "    lse = 0.5 * np.linalg.norm(Yi - Y)**2\n",
    "    ridge = lamb * np.linalg.norm(w)**2\n",
    "    return lse + ridge\n",
    "    \n",
    "\n",
    "def cross_validate(X, Y, transform, folds=5, lamb=1e-3):\n",
    "    N = X.shape[0]\n",
    "    pn = math.ceil(N / folds)\n",
    "    \n",
    "    # randomize, then split\n",
    "    shuffled_indices = np.arange(N)\n",
    "    np.random.shuffle(shuffled_indices)\n",
    "    \n",
    "    idx_pieces = [shuffled_indices[i*pn:min((i+1)*pn,N)] for i in range(folds)]\n",
    "    \n",
    "    Ws = []\n",
    "    crossval_losses = []\n",
    "    \n",
    "    for i in range(folds):\n",
    "        Xval = transform(X[idx_pieces[i]])\n",
    "        Yval = Y[idx_pieces[i]]\n",
    "\n",
    "        idx_p = idx_pieces[:]\n",
    "        del idx_p[i]\n",
    "        \n",
    "        Xtrain = transform(X[np.concatenate(idx_p)])\n",
    "        Ytrain = Y[np.concatenate(idx_p)]\n",
    "        \n",
    "        w = ridge_regression(Xtrain, Ytrain, lamb=lamb)\n",
    "        Ws.append(w)\n",
    "        \n",
    "        cross_loss = loss(Xval, Yval, w, lamb)\n",
    "        crossval_losses.append(cross_loss)\n",
    "        \n",
    "    return np.mean(crossval_losses)\n",
    "\n",
    "# testing\n",
    "\n",
    "x1d, y1d = load_dataset('dataLinReg1D.txt')\n",
    "CVLoss = cross_validate(x1d, y1d, linear_transform)\n",
    "print(CVLoss)\n",
    "# ERROR - handle rbf pls\n",
    "# CVLoss = cross_validate(x1d, y1d, rbf_transform)\n",
    "# print(CVLoss)\n",
    "    "
   ]
  },
  {
   "cell_type": "code",
   "execution_count": 8,
   "metadata": {},
   "outputs": [
    {
     "name": "stdout",
     "output_type": "stream",
     "text": [
      "[0.34826628493756384, 0.3553901993575796, 0.3468513561937846, 0.34767777484376144, 0.3555901394005215, 0.3474800489998854, 0.3476661510914415, 0.3514944829060955, 0.3640423786329039, 0.43859950516549107, 1.2647087900724876]\n"
     ]
    },
    {
     "data": {
      "image/png": "[encoded data removed]",
      "text/plain": [
       "<matplotlib.figure.Figure at 0x2000b69dd68>"
      ]
     },
     "metadata": {},
     "output_type": "display_data"
    }
   ],
   "source": [
    "lamb_list = [1e-10, 1e-9, 1e-8, 1e-7, 1e-6, 1e-5, 1e-4, 1e-3, 1e-2, 1e-1, 1]\n",
    "cval_list = []\n",
    "\n",
    "for l in lamb_list:\n",
    "    cval_list.append(cross_validate(x1d, y1d, linear_transform, lamb=l))\n",
    "    \n",
    "# print(cval_list)\n",
    "\n",
    "plt.rcdefaults()\n",
    "plt.figure(figsize=(11, 7))\n",
    "plt.bar([i for i in range(len(lamb_list))], cval_list, align='center', alpha=1)\n",
    "plt.xticks([i for i in range(len(lamb_list))], lamb_list)\n",
    "plt.axhline(min(cval_list), color=\"gray\")\n",
    "plt.show()"
   ]
  },
  {
   "cell_type": "code",
   "execution_count": null,
   "metadata": {},
   "outputs": [],
   "source": []
  }
 ],
 "metadata": {
  "kernelspec": {
   "display_name": "Python 3",
   "language": "python",
   "name": "python3"
  },
  "language_info": {
   "codemirror_mode": {
    "name": "ipython",
    "version": 3
   },
   "file_extension": ".py",
   "mimetype": "text/x-python",
   "name": "python",
   "nbconvert_exporter": "python",
   "pygments_lexer": "ipython3",
   "version": "3.6.4"
  }
 },
 "nbformat": 4,
 "nbformat_minor": 2
}
