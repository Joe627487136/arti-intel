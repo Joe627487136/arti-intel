{
 "cells": [
  {
   "cell_type": "markdown",
   "metadata": {},
   "source": [
    "# Artificial Intelligence - Week 1 Homework\n",
    "\n"
   ]
  },
  {
   "cell_type": "markdown",
   "metadata": {},
   "source": [
    "## Question 1"
   ]
  },
  {
   "cell_type": "markdown",
   "metadata": {},
   "source": [
    "We start by including the Gaussian distribution used to draw the X\n",
    "\n",
    "$$ p(x, y) = \\sum_{i\\in (1,2)} p(x, y, c(x)=i)$$\n",
    "$$ \\hspace{30mm} = \\sum_{i\\in (1,2)} p(x, y \\mid c(x)=i) \\cdot p(c(x)=i)$$\n",
    "\n",
    "as $y$ and $x$ are independent, but both are dependent on $c(x)$, it can be written as follows.\n",
    "\n",
    "$$ p(x,y) = \\sum_{i \\in (1,2)} p(x \\mid c(x)=i) \\cdot p(y \\mid c(x)=i) \\cdot p(c(x)=i) $$\n",
    "\n",
    "where\n",
    "\n",
    "$$ p(x \\mid c(x)) = \\left\\{\n",
    "                 \\begin{array}{ll}\n",
    "                     \\sim N\\left( \\begin{bmatrix} 0 \\\\ 0 \\end{bmatrix} , \\begin{bmatrix} 9 & 0 \\\\ 0 & 1\\end{bmatrix} \\right) & if \\space c(x) = 1 \\\\\n",
    "                     \\sim N\\left( \\begin{bmatrix} 2.5 \\\\ 0 \\end{bmatrix} , \\begin{bmatrix} 9 & 0 \\\\ 0 & 1\\end{bmatrix} \\right) & if \\space c(x) = 2 \\\\\n",
    "                 \\end{array}\\right.$$\n",
    "                 \n",
    "$$ p(y=0 \\mid c(x)) = \\left\\{\n",
    "                 \\begin{array}{ll}\n",
    "                     0.8 & if \\space c(x) = 1 \\\\\n",
    "                     0.7 & if \\space c(x) = 2 \\\\\n",
    "                 \\end{array}\\right.$$\n",
    "                 \n",
    "$$ and \\quad p(c(x)=1) = 0.8 $$\n",
    "                   \n",
    "Thus the distribution becomes\n",
    "\n",
    "$$ \\hspace{16mm} p(x,y) = p(x \\mid c(x)=1) \\cdot p(y \\mid c(x)=1) \\cdot p(c(x)=1) + p(x \\mid c(x)=2) \\cdot p(y \\mid c(x)=2) \\cdot p(c(x)=2)$$\n",
    "\n",
    "$$ = \\left\\{\n",
    "        \\begin{array}{ll}\n",
    "            p(x \\mid c(x)=1) \\cdot 0.8 \\cdot 0.8 + p(x \\mid c(x)=2) \\cdot 0.7 \\cdot 0.2 & if \\space y=0 \\\\\n",
    "            p(x \\mid c(x)=1) \\cdot 0.2 \\cdot 0.8 + p(x \\mid c(x)=2) \\cdot 0.3 \\cdot 0.2 & if \\space y=1 \\\\\n",
    "        \\end{array}\n",
    "     \\right.$$\n",
    "     \n",
    "$$ = \\left\\{\n",
    "        \\begin{array}{ll}\n",
    "             0.64 \\cdot X \\sim N\\left( \\begin{bmatrix} 0 \\\\ 0 \\end{bmatrix} , \\begin{bmatrix} 9 & 0 \\\\ 0 & 1\\end{bmatrix} \\right) + 0.14 \\cdot X \\sim N\\left( \\begin{bmatrix} 2.5 \\\\ 0 \\end{bmatrix} , \\begin{bmatrix} 9 & 0 \\\\ 0 & 1\\end{bmatrix} \\right) & if \\space y=0 \\\\\n",
    "             0.16 \\cdot X \\sim N\\left( \\begin{bmatrix} 0 \\\\ 0 \\end{bmatrix} , \\begin{bmatrix} 9 & 0 \\\\ 0 & 1\\end{bmatrix} \\right) + 0.06 \\cdot X \\sim N\\left( \\begin{bmatrix} 2.5 \\\\ 0 \\end{bmatrix} , \\begin{bmatrix} 9 & 0 \\\\ 0 & 1\\end{bmatrix} \\right) & if \\space y=1 \\\\\n",
    "        \\end{array}\n",
    "     \\right.$$\n",
    "\n",
    "$$ p(x,y) = \\left\\{\n",
    "        \\begin{array}{ll}\n",
    "             X \\sim N\\left( \\begin{bmatrix} 0.35 \\\\ 0 \\end{bmatrix} , \\begin{bmatrix} 3.8628 & 0 \\\\ 0 & 0.4292\\end{bmatrix} \\right) & if \\space y=0 \\\\\n",
    "             X \\sim N\\left( \\begin{bmatrix} 0.15 \\\\ 0 \\end{bmatrix} , \\begin{bmatrix} 8.29 \\times 10^{-4} & 0 \\\\ 0 & 9.21 \\times 10^{-5}\\end{bmatrix} \\right) & if \\space y=1 \\\\\n",
    "        \\end{array}\n",
    "     \\right.$$\n"
   ]
  },
  {
   "cell_type": "markdown",
   "metadata": {},
   "source": [
    "## Question 2"
   ]
  },
  {
   "cell_type": "markdown",
   "metadata": {},
   "source": [
    "**1. Show that the solution for optimum weight $\\tilde w$ still takes the similar form.**\n",
    "\n",
    "Starting from the loss function,\n",
    "\n",
    "$$ Loss = \\frac{1}{2N} \\sum_{i=1}^{n} (y_i - \\phi(x_i) \\cdot w)^2$$\n",
    "$$ Loss = \\frac{1}{2N} \\space (Y - \\Phi \\cdot w)^T \\space (Y - \\Phi \\cdot w) \\quad (converting \\space to \\space matrix)$$\n",
    "$$ \\frac{dLoss}{dw} = \\frac{1}{2N} \\space  (- 2\\Phi^T) \\space (Y - \\Phi \\cdot w) \\quad (differentiation)$$\n",
    "$$ 0 = \\Phi^T \\cdot Y - \\Phi^T \\cdot \\Phi \\cdot w \\quad (minimizing)$$\n",
    "$$ \\Phi^T \\cdot \\Phi \\cdot w = \\Phi^T \\cdot Y $$\n",
    "$$ w = (\\Phi^T \\cdot \\Phi)^{-1} (\\Phi^T \\cdot Y) $$\n",
    "\n",
    "\n",
    "**2. Write $f(z)$ in terms of $K$ and $Y$, where $k(x, z) = \\phi(x) \\cdot \\phi(z)$ **\n",
    "\n",
    "using $w = \\Phi^T \\cdot v$,\n",
    "\n",
    "$$ Loss = \\frac{1}{2N} \\space (Y - \\Phi \\cdot \\Phi^T \\cdot v)^T \\space (Y - \\Phi \\cdot \\Phi^T \\cdot v)$$\n",
    "$$ \\frac{dLoss}{dv} = \\frac{1}{2N} \\space  (- 2(\\Phi \\cdot \\Phi^T)^T) \\space (Y - \\Phi \\cdot \\Phi^T \\cdot v)$$\n",
    "$$ 0 =  (\\Phi \\cdot \\Phi^T)^T \\space (Y - \\Phi \\cdot \\Phi^T \\cdot v)$$\n",
    "\n",
    "since $(\\Phi \\cdot \\Phi^T)^T = (\\Phi^T)^T \\cdot (\\Phi)^T = \\Phi \\cdot \\Phi^T $,\n",
    "\n",
    "$$ 0 =  \\Phi \\cdot \\Phi^T \\space (Y - \\Phi \\cdot \\Phi^T \\cdot v)$$\n",
    "$$ 0 =  \\Phi \\cdot \\Phi^T \\cdot Y - \\Phi \\cdot \\Phi^T \\cdot \\Phi \\cdot \\Phi^T \\cdot v$$\n",
    "$$ \\Phi \\cdot \\Phi^T \\cdot \\Phi \\cdot \\Phi^T \\cdot v =  \\Phi \\cdot \\Phi^T \\cdot Y  $$\n",
    "$$  v =  (\\Phi \\cdot \\Phi^T \\cdot \\Phi \\cdot \\Phi^T)^{-1} \\Phi^T \\cdot \\Phi \\cdot Y  $$\n",
    "\n",
    "where\n",
    "      \n",
    "$$ \\Phi \\cdot \\Phi^T = \\begin{bmatrix}\n",
    "             \\phi(x_1) \\\\\n",
    "             \\phi(x_2) \\\\\n",
    "             \\vdots \\\\\n",
    "             \\phi(x_n) \\\\\n",
    "     \\end{bmatrix}\n",
    "     \\begin{bmatrix}\n",
    "             \\phi(x_1) & \\phi(x_2) & \\ldots & \\phi(x_n) \\\\\n",
    "     \\end{bmatrix} \n",
    "     $$\n",
    "     \n",
    "$$ = \\begin{bmatrix}\n",
    "        \\phi(x_1) \\cdot \\phi(x_1) & \\phi(x_1) \\cdot \\phi(x_2) & \\ldots & \\phi(x_1) \\cdot \\phi(x_n) \\\\\n",
    "        \\phi(x_2) \\cdot \\phi(x_1) & \\phi(x_2) \\cdot \\phi(x_2) & \\ldots & \\phi(x_2) \\cdot \\phi(x_n) \\\\\n",
    "        \\vdots & \\vdots & \\ddots & \\vdots \\\\\n",
    "        \\phi(x_n) \\cdot \\phi(x_1) & \\phi(x_n) \\cdot \\phi(x_2) & \\ldots & \\phi(x_n) \\cdot \\phi(x_n) \\\\\n",
    "     \\end{bmatrix}$$\n",
    "     \n",
    "$$ = \\begin{bmatrix}\n",
    "        \\kappa(x_1, x_1) & \\kappa(x_1, x_2) & \\ldots & \\kappa(x_1, x_n) \\\\\n",
    "        \\kappa(x_2, x_1) & \\kappa(x_2, x_2) & \\ldots & \\kappa(x_2, x_n) \\\\\n",
    "        \\vdots & \\vdots & \\ddots & \\vdots \\\\\n",
    "        \\kappa(x_n, x_1) & \\kappa(x_n, x_2) & \\ldots & \\kappa(x_n, x_n) \\\\\n",
    "     \\end{bmatrix} = K $$\n",
    "     \n",
    "$$ \\Phi \\cdot \\Phi^T = K $$\n",
    "\n",
    "therefore,\n",
    "\n",
    "$$ v = \\left( K \\cdot K\\right)^{-1} \\left(K \\cdot Y\\right)$$\n",
    "\n",
    "$$ f(z) = \\phi(z) \\cdot \\Phi^T \\cdot v $$\n",
    "\n",
    "$$ f(z) = \\begin{bmatrix} \\phi(z) \\cdot \\phi(x_1) & \\phi(z) \\cdot \\phi(x_2) & \\ldots & \\phi(z) \\cdot \\phi(x_n) \\end{bmatrix} \\cdot v $$\n",
    "\n",
    "$$ f(z) = \\begin{bmatrix} \\kappa(z, x_1) & \\kappa(z, x_2) & \\ldots & \\kappa(z, x_n) \\end{bmatrix} \\cdot v $$\n",
    "\n",
    "$$ f(z) = \\begin{bmatrix} \\kappa(z, x_1) & \\kappa(z, x_2) & \\ldots & \\kappa(z, x_n) \\end{bmatrix} \\cdot \\left( K \\cdot K\\right)^{-1} \\left(K \\cdot Y\\right) $$"
   ]
  },
  {
   "cell_type": "markdown",
   "metadata": {},
   "source": [
    "## Question 3\n",
    "### I. Linear Features"
   ]
  },
  {
   "cell_type": "code",
   "execution_count": 1,
   "metadata": {},
   "outputs": [],
   "source": [
    "import numpy as np\n",
    "import matplotlib.pyplot as plt"
   ]
  },
  {
   "cell_type": "markdown",
   "metadata": {},
   "source": [
    "a) Write a routine that loads a data file and returns a matrix X containing all xi as rows,\n",
    "and a vector y containing all yi"
   ]
  },
  {
   "cell_type": "code",
   "execution_count": 2,
   "metadata": {},
   "outputs": [],
   "source": [
    "def load_dataset(filename):\n",
    "    x = []\n",
    "    y = []\n",
    "    with open(filename, 'r') as inputfile:\n",
    "        for iline in inputfile:\n",
    "            data = iline.strip('\\n').split()\n",
    "            # filling y\n",
    "            y.append(float(data[-1]))\n",
    "            # filling x\n",
    "            x.append([float(xi) for xi in data[:-1]])\n",
    "    X = np.asarray(x)\n",
    "    Y = np.asarray(y)\n",
    "    \n",
    "    return X, Y\n",
    "\n",
    "# testing\n",
    "x1d, y1d = load_dataset('dataLinReg1D.txt')\n",
    "x2d, y2d = load_dataset('dataLinReg2D.txt')\n",
    "# print(x1d)"
   ]
  },
  {
   "cell_type": "markdown",
   "metadata": {},
   "source": [
    "b) Write a routine that takes the raw X as input and returns a new X with a ’1’ pre-pended\n",
    "to each row. This routine simply computes the linear features including the constant\n",
    "’1’. This routine can later be replaced by others to work with non-linear features."
   ]
  },
  {
   "cell_type": "code",
   "execution_count": 3,
   "metadata": {},
   "outputs": [],
   "source": [
    "def linear_transform(X, D, lamb=1e-3):\n",
    "    return np.append(X, np.ones((X.shape[0],1)), axis=1)\n",
    "\n",
    "# testing\n",
    "x1d_appended = linear_transform(x1d, x1d)\n",
    "# print(x1d_appended)"
   ]
  },
  {
   "cell_type": "markdown",
   "metadata": {},
   "source": [
    "c) Write a routine that returns the optimal w from X and y - analytically, not by gradient\n",
    "descent."
   ]
  },
  {
   "cell_type": "code",
   "execution_count": 4,
   "metadata": {},
   "outputs": [
    {
     "name": "stdout",
     "output_type": "stream",
     "text": [
      "[ 0.54359668 -0.79145962]\n"
     ]
    }
   ],
   "source": [
    "def ridge_regression(X, Y, lamb=1e-3):\n",
    "    to_inv = np.matmul(X.T, X) + lamb * np.eye(X.shape[1])\n",
    "#     print(\"to_inv:\", to_inv.shape, np.linalg.det(to_inv))\n",
    "    pre = np.linalg.inv(to_inv)\n",
    "    post = np.matmul(X.T, Y)\n",
    "    return np.matmul(pre, post)\n",
    "\n",
    "# testing\n",
    "w = ridge_regression(x1d_appended, y1d)\n",
    "print(w)"
   ]
  },
  {
   "cell_type": "markdown",
   "metadata": {},
   "source": [
    "d) Generate some test data points (along a grid) and collect them in a matrix Z. Apply\n",
    "routine b) to compute features. Compute the predictions y = Zw (simple matrix\n",
    "multiplication) on the test data and plot it."
   ]
  },
  {
   "cell_type": "code",
   "execution_count": 5,
   "metadata": {},
   "outputs": [
    {
     "name": "stdout",
     "output_type": "stream",
     "text": [
      "Note: Blue points are from the samples Z, Red points are from the dataset\n"
     ]
    },
    {
     "data": {
      "image/png": "[encoded data removed]",
      "text/plain": [
       "<matplotlib.figure.Figure at 0x256904c4b00>"
      ]
     },
     "metadata": {},
     "output_type": "display_data"
    }
   ],
   "source": [
    "def plot_z_matrix(X, Y, count=50):\n",
    "    Xi = linear_transform(X, X)\n",
    "    w = ridge_regression(Xi, Y)\n",
    "    Z = np.random.randn(count, 1)\n",
    "    Zi = linear_transform(Z, Z)\n",
    "    Yz = np.matmul(Zi, w)\n",
    "    \n",
    "    plt.plot(X, Y, '.r')\n",
    "    plt.plot(Z, Yz, '.b')\n",
    "\n",
    "# testing on 1d\n",
    "print(\"Note: Blue points are from the samples Z, Red points are from the dataset\")\n",
    "plot_z_matrix(x1d, y1d)"
   ]
  },
  {
   "cell_type": "markdown",
   "metadata": {},
   "source": [
    "### II. Cross-validation"
   ]
  },
  {
   "cell_type": "code",
   "execution_count": 6,
   "metadata": {},
   "outputs": [],
   "source": [
    "x2d, y2d = load_dataset('dataLinReg2D.txt')\n",
    "\n",
    "def rbf(x, y, alp=1e-3):\n",
    "    norm = np.linalg.norm((x-y))\n",
    "    return np.exp(-(norm/alp)**2)\n",
    "    \n",
    "\n",
    "def rbf_transform(X, D, alp=1e-3):\n",
    "    rbfX = np.zeros((X.shape[0], D.shape[0]+1))\n",
    "    \n",
    "    for i in range(X.shape[0]):\n",
    "        for j in range(D.shape[0]):\n",
    "            rbfX[i, j] = rbf(X[i,:], D[j,:], alp=alp)\n",
    "        rbfX[i, D.shape[0]] = 1\n",
    "            \n",
    "    return rbfX\n",
    "\n",
    "# testing\n",
    "rx1d = rbf_transform(x1d, x1d)\n",
    "    "
   ]
  },
  {
   "cell_type": "code",
   "execution_count": 7,
   "metadata": {},
   "outputs": [
    {
     "name": "stdout",
     "output_type": "stream",
     "text": [
      "Linear: 0.10930394941524695\n",
      "RBF: 16.964763536551832\n"
     ]
    }
   ],
   "source": [
    "def loss(X, Y, w, lamb):\n",
    "#     Yi = np.matmul(X, w)\n",
    "    Yi = np.matmul(X,w)\n",
    "    lse = 0.5 * np.linalg.norm(Yi - Y)**2\n",
    "    ridge = lamb * np.linalg.norm(w)**2\n",
    "    return lse + ridge\n",
    "    \n",
    "\n",
    "def cross_validate(X, Y, transform, shuffled_indices, folds=5, lamb=1e-3):\n",
    "    N = X.shape[0]\n",
    "    pn = int(np.ceil(N / folds))\n",
    "    \n",
    "    idx_pieces = [shuffled_indices[i*pn:min((i+1)*pn,N)] for i in range(folds)]\n",
    "    \n",
    "    Ws = []\n",
    "    crossval_losses = []\n",
    "    \n",
    "    for i in range(folds):\n",
    "#         print(\"crossval\",i)\n",
    "        idx_p = idx_pieces[:]\n",
    "        del idx_p[i]\n",
    "        \n",
    "        Xt = X[np.concatenate(idx_p)]\n",
    "        Xtrain = transform(Xt, Xt)\n",
    "        Ytrain = Y[np.concatenate(idx_p)]\n",
    "        \n",
    "        Xv = X[idx_pieces[i]]\n",
    "        Xval = transform(Xv, Xt)\n",
    "        Yval = Y[idx_pieces[i]]\n",
    "        \n",
    "        w = ridge_regression(Xtrain, Ytrain, lamb=lamb)\n",
    "        Ws.append(w)\n",
    "        \n",
    "        cross_loss = loss(Xval, Yval, w, lamb)\n",
    "        crossval_losses.append(cross_loss)\n",
    "        \n",
    "    return np.mean(crossval_losses)\n",
    "\n",
    "# testing\n",
    "\n",
    "x1d, y1d = load_dataset('dataLinReg1D.txt')\n",
    "    \n",
    "# randomize, then split\n",
    "shuffled_indices = np.arange(x1d.shape[0])\n",
    "np.random.shuffle(shuffled_indices)\n",
    "\n",
    "CVLoss = cross_validate(x2d, y2d, linear_transform, shuffled_indices)\n",
    "print('Linear:',CVLoss)\n",
    "# ERROR - handle rbf pls\n",
    "CVLoss = cross_validate(x2d, y2d, rbf_transform, shuffled_indices)\n",
    "print('RBF:',CVLoss)\n",
    "    "
   ]
  },
  {
   "cell_type": "code",
   "execution_count": 8,
   "metadata": {},
   "outputs": [],
   "source": [
    "# lamb_list = [1e-10, 1e-9, 1e-8, 1e-7, 1e-6, 1e-5, 1e-4, 1e-3, 1e-2, 1e-1, 1]\n",
    "\n",
    "lamb_list = [1e-4, 1e-3, 1e-2, 1e-1, 1, 10]\n",
    "\n",
    "opt_lamb = []\n",
    "opt_cval = []\n",
    "\n",
    "ropt_lamb = []\n",
    "ropt_cval = []\n",
    "\n",
    "for k in range(10):\n",
    "    cval_list = []\n",
    "    rcval_list = []\n",
    "    \n",
    "    shuffled_indices = np.arange(x2d.shape[0])\n",
    "    np.random.shuffle(shuffled_indices)\n",
    "    \n",
    "    for l in lamb_list:\n",
    "#         print(\">> lambda\",l)\n",
    "        cval_list.append(cross_validate(x2d, y2d, linear_transform, shuffled_indices, lamb=l))\n",
    "        rcval_list.append(cross_validate(x2d, y2d, rbf_transform, shuffled_indices, lamb=l))\n",
    "        \n",
    "    opt_idx = cval_list.index(min(cval_list))\n",
    "    opt_lamb.append(lamb_list[opt_idx])\n",
    "    opt_cval.append(min(cval_list))\n",
    "    \n",
    "    ropt_idx = rcval_list.index(min(rcval_list))\n",
    "    ropt_lamb.append(lamb_list[ropt_idx])\n",
    "    ropt_cval.append(min(rcval_list))\n"
   ]
  },
  {
   "cell_type": "code",
   "execution_count": 9,
   "metadata": {
    "scrolled": false
   },
   "outputs": [
    {
     "name": "stdout",
     "output_type": "stream",
     "text": [
      "Linear\n",
      "optimal lambda: [0.0001, 0.0001, 0.0001, 0.0001, 0.0001, 0.0001, 0.0001, 0.0001, 0.0001, 0.0001]\n"
     ]
    },
    {
     "data": {
      "image/png": "[encoded data removed]",
      "text/plain": [
       "<matplotlib.figure.Figure at 0x256905f5d68>"
      ]
     },
     "metadata": {},
     "output_type": "display_data"
    },
    {
     "name": "stdout",
     "output_type": "stream",
     "text": [
      "RBF\n",
      "optimal lambda: [0.0001, 0.0001, 0.0001, 0.0001, 0.0001, 0.0001, 0.0001, 0.0001, 0.0001, 0.0001]\n"
     ]
    },
    {
     "data": {
      "image/png": "[encoded data removed]",
      "text/plain": [
       "<matplotlib.figure.Figure at 0x256905d59b0>"
      ]
     },
     "metadata": {},
     "output_type": "display_data"
    }
   ],
   "source": [
    "def bin_opt_lamb(opt, llist=lamb_list):\n",
    "    opt_lamb_bin = []\n",
    "    for l in llist:\n",
    "        bin_count = 0\n",
    "        for i in opt:\n",
    "            if i == l:\n",
    "                bin_count += 1\n",
    "        opt_lamb_bin.append(bin_count)\n",
    "    return opt_lamb_bin\n",
    "\n",
    "op_lbin = bin_opt_lamb(opt_lamb)\n",
    "rop_lbin = bin_opt_lamb(ropt_lamb)\n",
    "\n",
    "def plot_bin(lbin, title, llist=lamb_list):\n",
    "#     print(lbin)\n",
    "    plt.figure(figsize=(10, 3))\n",
    "    plt.bar([i for i in range(len(llist))], lbin, align='center', alpha=1)\n",
    "    plt.title(title)\n",
    "    plt.xticks([i for i in range(len(llist))], llist)\n",
    "    plt.show()\n",
    "    \n",
    "print(\"Linear\")\n",
    "print('optimal lambda:',opt_lamb)\n",
    "# print('cval losses:', opt_cval)\n",
    "plot_bin(op_lbin, \"Linear\")\n",
    "\n",
    "print(\"RBF\")\n",
    "print('optimal lambda:',ropt_lamb)\n",
    "# print('cval losses:', ropt_cval)\n",
    "plot_bin(rop_lbin, \"RBF\")"
   ]
  },
  {
   "cell_type": "code",
   "execution_count": 10,
   "metadata": {},
   "outputs": [
    {
     "name": "stdout",
     "output_type": "stream",
     "text": [
      "Linear:\n",
      "  Optimal Lambda: 0.0001 \n",
      "  MSE mean: 0.10967003906370491 \n",
      "  MSE stdv: 0.0032336144250752915\n",
      "\n",
      "RBF:\n",
      "  Optimal Lambda: 0.0001 \n",
      "  MSE mean: 16.69312514412833 \n",
      "  MSE stdv: 0.11174541092028267\n"
     ]
    }
   ],
   "source": [
    "optimal_lambda = lamb_list[op_lbin.index(max(op_lbin))]\n",
    "cvals = []\n",
    "for i in range(10):\n",
    "    shuffled_indices = np.arange(x2d.shape[0])\n",
    "    np.random.shuffle(shuffled_indices)\n",
    "    cvals.append(cross_validate(x2d, y2d, linear_transform, shuffled_indices, lamb=optimal_lambda))\n",
    "    \n",
    "opt_mean = np.mean(cvals)\n",
    "opt_std = np.std(cvals)\n",
    "print(\"Linear:\\n  Optimal Lambda:\",optimal_lambda,\"\\n  MSE mean:\",opt_mean,\"\\n  MSE stdv:\", opt_std)\n",
    "\n",
    "roptimal_lambda = lamb_list[rop_lbin.index(max(rop_lbin))]\n",
    "rcvals = []\n",
    "for i in range(10):\n",
    "    shuffled_indices = np.arange(x2d.shape[0])\n",
    "    np.random.shuffle(shuffled_indices)\n",
    "    rcvals.append(cross_validate(x2d, y2d, rbf_transform, shuffled_indices, lamb=roptimal_lambda))\n",
    "opt_mean = np.mean(rcvals)\n",
    "opt_std = np.std(rcvals)\n",
    "print(\"\\nRBF:\\n  Optimal Lambda:\",roptimal_lambda,\"\\n  MSE mean:\",opt_mean,\"\\n  MSE stdv:\", opt_std)"
   ]
  },
  {
   "cell_type": "markdown",
   "metadata": {},
   "source": [
    "_Adding noise $\\sim N(0,100)$_"
   ]
  },
  {
   "cell_type": "code",
   "execution_count": 11,
   "metadata": {},
   "outputs": [],
   "source": [
    "\n",
    "x2d, y2d_ = load_dataset('dataLinReg2D.txt')\n",
    "ye = np.random.normal(0, 10, y2d.shape[0])\n",
    "y2d = y2d_ + ye\n"
   ]
  },
  {
   "cell_type": "code",
   "execution_count": 12,
   "metadata": {},
   "outputs": [],
   "source": [
    "\n",
    "lamb_list = [1e-4, 1e-3, 1e-2, 1e-1, 1, 10]\n",
    "\n",
    "opt_lamb = []\n",
    "opt_cval = []\n",
    "\n",
    "ropt_lamb = []\n",
    "ropt_cval = []\n",
    "\n",
    "for k in range(10):\n",
    "    cval_list = []\n",
    "    rcval_list = []\n",
    "    \n",
    "    shuffled_indices = np.arange(x2d.shape[0])\n",
    "    np.random.shuffle(shuffled_indices)\n",
    "    \n",
    "    for l in lamb_list:\n",
    "#         print(\">> lambda\",l)\n",
    "        cval_list.append(cross_validate(x2d, y2d, linear_transform, shuffled_indices, lamb=l))\n",
    "        rcval_list.append(cross_validate(x2d, y2d, rbf_transform, shuffled_indices, lamb=l))\n",
    "        \n",
    "    opt_idx = cval_list.index(min(cval_list))\n",
    "    opt_lamb.append(lamb_list[opt_idx])\n",
    "    opt_cval.append(min(cval_list))\n",
    "    \n",
    "    ropt_idx = rcval_list.index(min(rcval_list))\n",
    "    ropt_lamb.append(lamb_list[ropt_idx])\n",
    "    ropt_cval.append(min(rcval_list))"
   ]
  },
  {
   "cell_type": "code",
   "execution_count": 13,
   "metadata": {},
   "outputs": [
    {
     "name": "stdout",
     "output_type": "stream",
     "text": [
      "Linear\n",
      "optimal lambda: [0.0001, 0.0001, 0.0001, 0.0001, 0.0001, 0.0001, 0.0001, 0.0001, 0.0001, 0.0001]\n"
     ]
    },
    {
     "data": {
      "image/png": "[encoded data removed]",
      "text/plain": [
       "<matplotlib.figure.Figure at 0x2569065a2b0>"
      ]
     },
     "metadata": {},
     "output_type": "display_data"
    },
    {
     "name": "stdout",
     "output_type": "stream",
     "text": [
      "RBF\n",
      "optimal lambda: [0.0001, 0.0001, 0.0001, 0.0001, 0.0001, 0.0001, 0.0001, 0.0001, 0.0001, 0.0001]\n"
     ]
    },
    {
     "data": {
      "image/png": "[encoded data removed]",
      "text/plain": [
       "<matplotlib.figure.Figure at 0x25692b88a58>"
      ]
     },
     "metadata": {},
     "output_type": "display_data"
    }
   ],
   "source": [
    "op_lbin = bin_opt_lamb(opt_lamb)\n",
    "rop_lbin = bin_opt_lamb(ropt_lamb)\n",
    "\n",
    "print(\"Linear\")\n",
    "print('optimal lambda:',opt_lamb)\n",
    "# print('cval losses:', opt_cval)\n",
    "plot_bin(op_lbin, \"Linear\")\n",
    "\n",
    "print(\"RBF\")\n",
    "print('optimal lambda:',ropt_lamb)\n",
    "# print('cval losses:', ropt_cval)\n",
    "plot_bin(rop_lbin, \"RBF\")\n"
   ]
  },
  {
   "cell_type": "code",
   "execution_count": 14,
   "metadata": {},
   "outputs": [
    {
     "name": "stdout",
     "output_type": "stream",
     "text": [
      "Linear:\n",
      "  Optimal Lambda: 0.0001 \n",
      "  MSE mean: 768.3450952286496 \n",
      "  MSE stdv: 16.620520271458886\n",
      "\n",
      "RBF:\n",
      "  Optimal Lambda: 0.0001 \n",
      "  MSE mean: 791.6606812468585 \n",
      "  MSE stdv: 10.45305444020109\n"
     ]
    }
   ],
   "source": [
    "optimal_lambda = lamb_list[op_lbin.index(max(op_lbin))]\n",
    "cvals = []\n",
    "for i in range(10):\n",
    "    shuffled_indices = np.arange(x2d.shape[0])\n",
    "    np.random.shuffle(shuffled_indices)\n",
    "    cvals.append(cross_validate(x2d, y2d, linear_transform, shuffled_indices, lamb=optimal_lambda))\n",
    "    \n",
    "opt_mean = np.mean(cvals)\n",
    "opt_std = np.std(cvals)\n",
    "print(\"Linear:\\n  Optimal Lambda:\",optimal_lambda,\"\\n  MSE mean:\",opt_mean,\"\\n  MSE stdv:\", opt_std)\n",
    "\n",
    "roptimal_lambda = lamb_list[rop_lbin.index(max(rop_lbin))]\n",
    "rcvals = []\n",
    "for i in range(10):\n",
    "    shuffled_indices = np.arange(x2d.shape[0])\n",
    "    np.random.shuffle(shuffled_indices)\n",
    "    rcvals.append(cross_validate(x2d, y2d, rbf_transform, shuffled_indices, lamb=roptimal_lambda))\n",
    "opt_mean = np.mean(rcvals)\n",
    "opt_std = np.std(rcvals)\n",
    "print(\"\\nRBF:\\n  Optimal Lambda:\",roptimal_lambda,\"\\n  MSE mean:\",opt_mean,\"\\n  MSE stdv:\", opt_std)"
   ]
  },
  {
   "cell_type": "markdown",
   "metadata": {},
   "source": [
    "As can be seen, while the histogram of the optimal lambda doesn't change with the noise, the distribution of the cross-validation error within the optimal lambda remains similar."
   ]
  },
  {
   "cell_type": "code",
   "execution_count": null,
   "metadata": {},
   "outputs": [],
   "source": []
  }
 ],
 "metadata": {
  "kernelspec": {
   "display_name": "Python 3",
   "language": "python",
   "name": "python3"
  },
  "language_info": {
   "codemirror_mode": {
    "name": "ipython",
    "version": 3
   },
   "file_extension": ".py",
   "mimetype": "text/x-python",
   "name": "python",
   "nbconvert_exporter": "python",
   "pygments_lexer": "ipython3",
   "version": "3.6.4"
  }
 },
 "nbformat": 4,
 "nbformat_minor": 2
}
