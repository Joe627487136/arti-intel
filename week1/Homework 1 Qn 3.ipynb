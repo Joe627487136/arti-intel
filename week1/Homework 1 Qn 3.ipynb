{
 "cells": [
  {
   "cell_type": "markdown",
   "metadata": {},
   "source": [
    "## Artificial Intelligence - Week 1 Homework\n",
    "\n",
    "### I. Linear Features"
   ]
  },
  {
   "cell_type": "code",
   "execution_count": 1,
   "metadata": {},
   "outputs": [],
   "source": [
    "import numpy as np\n",
    "import matplotlib.pyplot as plt"
   ]
  },
  {
   "cell_type": "markdown",
   "metadata": {},
   "source": [
    "a) Write a routine that loads a data file and returns a matrix X containing all xi as rows,\n",
    "and a vector y containing all yi"
   ]
  },
  {
   "cell_type": "code",
   "execution_count": 2,
   "metadata": {},
   "outputs": [],
   "source": [
    "def load_dataset(filename):\n",
    "    x = []\n",
    "    y = []\n",
    "    with open(filename, 'r') as inputfile:\n",
    "        for iline in inputfile:\n",
    "            data = iline.strip('\\n').split()\n",
    "            # filling y\n",
    "            y.append(float(data[-1]))\n",
    "            # filling x\n",
    "            x.append([float(xi) for xi in data[:-1]])\n",
    "    X = np.asarray(x)\n",
    "    Y = np.asarray(y)\n",
    "    \n",
    "    return X, Y\n",
    "\n",
    "# testing\n",
    "x1d, y1d = load_dataset('dataLinReg1D.txt')\n",
    "x2d, y2d = load_dataset('dataLinReg2D.txt')"
   ]
  },
  {
   "cell_type": "markdown",
   "metadata": {},
   "source": [
    "b) Write a routine that takes the raw X as input and returns a new X with a ’1’ pre-pended\n",
    "to each row. This routine simply computes the linear features including the constant\n",
    "’1’. This routine can later be replaced by others to work with non-linear features."
   ]
  },
  {
   "cell_type": "code",
   "execution_count": 3,
   "metadata": {},
   "outputs": [],
   "source": [
    "def linear_transform(X):\n",
    "    return np.append(X, np.ones((X.shape[0],1)), axis=1)\n",
    "\n",
    "# testing\n",
    "x1d_appended = linear_transform(x1d)\n",
    "# print(x1d_appended)"
   ]
  },
  {
   "cell_type": "markdown",
   "metadata": {},
   "source": [
    "c) Write a routine that returns the optimal w from X and y - analytically, not by gradient\n",
    "descent."
   ]
  },
  {
   "cell_type": "code",
   "execution_count": 4,
   "metadata": {},
   "outputs": [
    {
     "name": "stdout",
     "output_type": "stream",
     "text": [
      "[ 0.60186676 -0.87951738]\n"
     ]
    }
   ],
   "source": [
    "def ridge_regression(X, Y, lamb=1e-3):\n",
    "    pre = np.linalg.inv(np.matmul(X.T, X)) + lamb * np.eye(X.shape[1])\n",
    "    post = np.matmul(X.T, Y)\n",
    "    return np.matmul(pre, post)\n",
    "\n",
    "# testing\n",
    "w = ridge_regression(x1d_appended, y1d)\n",
    "print(w)"
   ]
  },
  {
   "cell_type": "markdown",
   "metadata": {},
   "source": [
    "d) Generate some test data points (along a grid) and collect them in a matrix Z. Apply\n",
    "routine b) to compute features. Compute the predictions y = Zw (simple matrix\n",
    "multiplication) on the test data and plot it."
   ]
  },
  {
   "cell_type": "code",
   "execution_count": 7,
   "metadata": {},
   "outputs": [
    {
     "data": {
      "image/png": "[encoded data removed]",
      "text/plain": [
       "<Figure size 432x288 with 1 Axes>"
      ]
     },
     "metadata": {},
     "output_type": "display_data"
    }
   ],
   "source": [
    "def plot_z_matrix(X, Y, count=50):\n",
    "    Xi = linear_transform(X)\n",
    "    w = ridge_regression(Xi, Y)\n",
    "    Z = np.random.randn(count, 1)\n",
    "    Zi = linear_transform(Z)\n",
    "    Yz = np.matmul(Zi, w)\n",
    "    \n",
    "    plt.plot(X, Y, '.r')\n",
    "    plt.plot(Z, Yz, '.b')\n",
    "\n",
    "# testing on 1d\n",
    "plot_z_matrix(x1d, y1d)"
   ]
  },
  {
   "cell_type": "markdown",
   "metadata": {},
   "source": [
    "### II. Cross-validation"
   ]
  },
  {
   "cell_type": "code",
   "execution_count": 10,
   "metadata": {},
   "outputs": [],
   "source": [
    "import math\n",
    "\n",
    "def rbf(x, y, alp=1e-3):\n",
    "    norm = np.linalg.norm((x-y))\n",
    "    return math.exp(-(norm)/alp**2)\n",
    "    \n",
    "\n",
    "def rbf_transform(X, alp=1e-3):\n",
    "    rbfX = np.zeros((X.shape[0], X.shape[0]))\n",
    "    \n",
    "    for i in range(X.shape[0]):\n",
    "        for j in range(X.shape[0]):\n",
    "            rbfX[i, j] = rbf(X[i,:], X[j,:], alp=alp)\n",
    "            \n",
    "    return rbfX\n",
    "\n",
    "# testing\n",
    "rx1d = rbf_transform(x1d)\n",
    "    "
   ]
  },
  {
   "cell_type": "code",
   "execution_count": 22,
   "metadata": {},
   "outputs": [
    {
     "name": "stdout",
     "output_type": "stream",
     "text": [
      "0.43459999397904614\n"
     ]
    },
    {
     "ename": "ValueError",
     "evalue": "shapes (20,20) and (80,) not aligned: 20 (dim 1) != 80 (dim 0)",
     "output_type": "error",
     "traceback": [
      "\u001b[0;31m---------------------------------------------------------------------------\u001b[0m",
      "\u001b[0;31mValueError\u001b[0m                                Traceback (most recent call last)",
      "\u001b[0;32m<ipython-input-22-62ddd91c5a32>\u001b[0m in \u001b[0;36m<module>\u001b[0;34m()\u001b[0m\n\u001b[1;32m     38\u001b[0m \u001b[0mCVLoss\u001b[0m \u001b[0;34m=\u001b[0m \u001b[0mcross_validate\u001b[0m\u001b[0;34m(\u001b[0m\u001b[0mx1d\u001b[0m\u001b[0;34m,\u001b[0m \u001b[0my1d\u001b[0m\u001b[0;34m,\u001b[0m \u001b[0mlinear_transform\u001b[0m\u001b[0;34m)\u001b[0m\u001b[0;34m\u001b[0m\u001b[0m\n\u001b[1;32m     39\u001b[0m \u001b[0mprint\u001b[0m\u001b[0;34m(\u001b[0m\u001b[0mCVLoss\u001b[0m\u001b[0;34m)\u001b[0m\u001b[0;34m\u001b[0m\u001b[0m\n\u001b[0;32m---> 40\u001b[0;31m \u001b[0mCVLoss\u001b[0m \u001b[0;34m=\u001b[0m \u001b[0mcross_validate\u001b[0m\u001b[0;34m(\u001b[0m\u001b[0mx1d\u001b[0m\u001b[0;34m,\u001b[0m \u001b[0my1d\u001b[0m\u001b[0;34m,\u001b[0m \u001b[0mrbf_transform\u001b[0m\u001b[0;34m)\u001b[0m\u001b[0;34m\u001b[0m\u001b[0m\n\u001b[0m\u001b[1;32m     41\u001b[0m \u001b[0mprint\u001b[0m\u001b[0;34m(\u001b[0m\u001b[0mCVLoss\u001b[0m\u001b[0;34m)\u001b[0m\u001b[0;34m\u001b[0m\u001b[0m\n\u001b[1;32m     42\u001b[0m \u001b[0;34m\u001b[0m\u001b[0m\n",
      "\u001b[0;32m<ipython-input-22-62ddd91c5a32>\u001b[0m in \u001b[0;36mcross_validate\u001b[0;34m(X, Y, transform, folds, lamb)\u001b[0m\n\u001b[1;32m     30\u001b[0m         \u001b[0mWs\u001b[0m\u001b[0;34m.\u001b[0m\u001b[0mappend\u001b[0m\u001b[0;34m(\u001b[0m\u001b[0mw\u001b[0m\u001b[0;34m)\u001b[0m\u001b[0;34m\u001b[0m\u001b[0m\n\u001b[1;32m     31\u001b[0m \u001b[0;34m\u001b[0m\u001b[0m\n\u001b[0;32m---> 32\u001b[0;31m         \u001b[0mcross_loss\u001b[0m \u001b[0;34m=\u001b[0m \u001b[0mloss\u001b[0m\u001b[0;34m(\u001b[0m\u001b[0mXval\u001b[0m\u001b[0;34m,\u001b[0m \u001b[0mYval\u001b[0m\u001b[0;34m,\u001b[0m \u001b[0mw\u001b[0m\u001b[0;34m,\u001b[0m \u001b[0mlamb\u001b[0m\u001b[0;34m)\u001b[0m\u001b[0;34m\u001b[0m\u001b[0m\n\u001b[0m\u001b[1;32m     33\u001b[0m         \u001b[0mcrossval_losses\u001b[0m\u001b[0;34m.\u001b[0m\u001b[0mappend\u001b[0m\u001b[0;34m(\u001b[0m\u001b[0mcross_loss\u001b[0m\u001b[0;34m)\u001b[0m\u001b[0;34m\u001b[0m\u001b[0m\n\u001b[1;32m     34\u001b[0m \u001b[0;34m\u001b[0m\u001b[0m\n",
      "\u001b[0;32m<ipython-input-22-62ddd91c5a32>\u001b[0m in \u001b[0;36mloss\u001b[0;34m(X, Y, w, lamb)\u001b[0m\n\u001b[1;32m      1\u001b[0m \u001b[0;32mdef\u001b[0m \u001b[0mloss\u001b[0m\u001b[0;34m(\u001b[0m\u001b[0mX\u001b[0m\u001b[0;34m,\u001b[0m \u001b[0mY\u001b[0m\u001b[0;34m,\u001b[0m \u001b[0mw\u001b[0m\u001b[0;34m,\u001b[0m \u001b[0mlamb\u001b[0m\u001b[0;34m)\u001b[0m\u001b[0;34m:\u001b[0m\u001b[0;34m\u001b[0m\u001b[0m\n\u001b[0;32m----> 2\u001b[0;31m     \u001b[0mYi\u001b[0m \u001b[0;34m=\u001b[0m \u001b[0mnp\u001b[0m\u001b[0;34m.\u001b[0m\u001b[0mmatmul\u001b[0m\u001b[0;34m(\u001b[0m\u001b[0mX\u001b[0m\u001b[0;34m,\u001b[0m \u001b[0mw\u001b[0m\u001b[0;34m)\u001b[0m\u001b[0;34m\u001b[0m\u001b[0m\n\u001b[0m\u001b[1;32m      3\u001b[0m     \u001b[0mlse\u001b[0m \u001b[0;34m=\u001b[0m \u001b[0;36m0.5\u001b[0m \u001b[0;34m*\u001b[0m \u001b[0mnp\u001b[0m\u001b[0;34m.\u001b[0m\u001b[0mlinalg\u001b[0m\u001b[0;34m.\u001b[0m\u001b[0mnorm\u001b[0m\u001b[0;34m(\u001b[0m\u001b[0mYi\u001b[0m \u001b[0;34m-\u001b[0m \u001b[0mY\u001b[0m\u001b[0;34m)\u001b[0m\u001b[0;34m**\u001b[0m\u001b[0;36m2\u001b[0m\u001b[0;34m\u001b[0m\u001b[0m\n\u001b[1;32m      4\u001b[0m     \u001b[0mridge\u001b[0m \u001b[0;34m=\u001b[0m \u001b[0mlamb\u001b[0m \u001b[0;34m*\u001b[0m \u001b[0mnp\u001b[0m\u001b[0;34m.\u001b[0m\u001b[0mlinalg\u001b[0m\u001b[0;34m.\u001b[0m\u001b[0mnorm\u001b[0m\u001b[0;34m(\u001b[0m\u001b[0mw\u001b[0m\u001b[0;34m)\u001b[0m\u001b[0;34m**\u001b[0m\u001b[0;36m2\u001b[0m\u001b[0;34m\u001b[0m\u001b[0m\n\u001b[1;32m      5\u001b[0m     \u001b[0;32mreturn\u001b[0m \u001b[0mlse\u001b[0m \u001b[0;34m+\u001b[0m \u001b[0mridge\u001b[0m\u001b[0;34m\u001b[0m\u001b[0m\n",
      "\u001b[0;31mValueError\u001b[0m: shapes (20,20) and (80,) not aligned: 20 (dim 1) != 80 (dim 0)"
     ]
    }
   ],
   "source": [
    "def loss(X, Y, w, lamb):\n",
    "    Yi = np.matmul(X, w)\n",
    "    lse = 0.5 * np.linalg.norm(Yi - Y)**2\n",
    "    ridge = lamb * np.linalg.norm(w)**2\n",
    "    return lse + ridge\n",
    "    \n",
    "\n",
    "def cross_validate(X, Y, transform, folds=5, lamb=1e-3):\n",
    "    N = X.shape[0]\n",
    "    pn = math.ceil(N / folds)\n",
    "    X_pieces = [X[i*pn:min((i+1)*pn,N),:] for i in range(folds)]\n",
    "    Y_pieces = [Y[i*pn:min((i+1)*pn,N)] for i in range(folds)]\n",
    "    \n",
    "    Ws = []\n",
    "    crossval_losses = []\n",
    "    \n",
    "    for i in range(folds):\n",
    "        Xval = transform(X_pieces[i])\n",
    "        Yval = Y_pieces[i]\n",
    "        \n",
    "        X_p = X_pieces[:]\n",
    "        del X_p[i]\n",
    "        Y_p = Y_pieces[:]\n",
    "        del Y_p[i]\n",
    "        \n",
    "        Xtrain = transform(np.concatenate(X_p, axis=0))\n",
    "        Ytrain = np.concatenate(Y_p, axis=0)\n",
    "        \n",
    "        w = ridge_regression(Xtrain, Ytrain)\n",
    "        Ws.append(w)\n",
    "        \n",
    "        cross_loss = loss(Xval, Yval, w, lamb)\n",
    "        crossval_losses.append(cross_loss)\n",
    "        \n",
    "    return np.mean(crossval_losses)\n",
    "\n",
    "# testing\n",
    "CVLoss = cross_validate(x1d, y1d, linear_transform)\n",
    "print(CVLoss)\n",
    "CVLoss = cross_validate(x1d, y1d, rbf_transform)\n",
    "print(CVLoss)\n",
    "    "
   ]
  },
  {
   "cell_type": "code",
   "execution_count": null,
   "metadata": {},
   "outputs": [],
   "source": []
  }
 ],
 "metadata": {
  "kernelspec": {
   "display_name": "Python 3",
   "language": "python",
   "name": "python3"
  },
  "language_info": {
   "codemirror_mode": {
    "name": "ipython",
    "version": 3
   },
   "file_extension": ".py",
   "mimetype": "text/x-python",
   "name": "python",
   "nbconvert_exporter": "python",
   "pygments_lexer": "ipython3",
   "version": "3.6.0"
  }
 },
 "nbformat": 4,
 "nbformat_minor": 2
}
