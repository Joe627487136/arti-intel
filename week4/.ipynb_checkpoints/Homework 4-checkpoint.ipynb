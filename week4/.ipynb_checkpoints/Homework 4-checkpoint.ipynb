{
 "cells": [
  {
   "cell_type": "markdown",
   "metadata": {},
   "source": [
    "## Homework 4\n",
    "### Theory Part"
   ]
  },
  {
   "cell_type": "markdown",
   "metadata": {},
   "source": [
    "**Q1**  Consider a layer in CNN that takes in a single channel input of 64 × 64, and has 96\n",
    "filters. In each of the following cases, compute the number of parameters that are learned in this\n",
    "layer. We assume that bias is present for each weight.\n",
    "\n",
    "[1] A convolution layer with filters of same size as the input.\n",
    "$$ Param = (ksize^2 + 1)*channel$$ \n",
    "$$ Param = (64^2 + 1) * 96 $$\n",
    "$$ Param = 393312 $$"
   ]
  },
  {
   "cell_type": "code",
   "execution_count": 1,
   "metadata": {},
   "outputs": [
    {
     "data": {
      "text/plain": [
       "393312"
      ]
     },
     "execution_count": 1,
     "metadata": {},
     "output_type": "execute_result"
    }
   ],
   "source": [
    "(64**2 + 1)* 96 "
   ]
  },
  {
   "cell_type": "markdown",
   "metadata": {},
   "source": [
    "\n",
    "[2] A convolution layer with 8 × 8 filters with stride of 4\n",
    "\n",
    "$$ Param = (ksize)^2 * channel + bias $$\n",
    "$$ Param = (8^2 + 1) * 96 $$\n",
    "$$ Param = 6240 $$\n",
    "\n"
   ]
  },
  {
   "cell_type": "code",
   "execution_count": 2,
   "metadata": {},
   "outputs": [
    {
     "data": {
      "text/plain": [
       "6240"
      ]
     },
     "execution_count": 2,
     "metadata": {},
     "output_type": "execute_result"
    }
   ],
   "source": [
    "(8**2 + 1) * 96 "
   ]
  },
  {
   "cell_type": "markdown",
   "metadata": {},
   "source": [
    "\n",
    "[3]. A convolution layer with 1 × 1 filter and a stride of 1\n",
    "\n",
    "$$ Param = (ksize)^2 * channel + bias $$\n",
    "$$ Param = (1^2+ 1) * 96  $$\n",
    "$$ Param = 192 $$\n",
    "\n",
    "---"
   ]
  },
  {
   "cell_type": "markdown",
   "metadata": {},
   "source": [
    "**Q2** Suppose you would have a neuron which has an RBF kernel as activation function (remember\n",
    "the evil wolf? Drop your linear style of thoughts. Circumferential thoughts can be nice too.)\n",
    "\n",
    "$$ y = exp(-(x_1^2 + x_2^2)) + b$$\n",
    "\n",
    "with parameter b. _What would be the shapes realized by the set of points {$(x1, x2) : y((x1, x2)) =\n",
    "0$} as a function of b ? Explain in at most 2 sentences and/or a little math._\n",
    "\n",
    "$$ 0 = exp(-(x_1^2 + x_2^2)) + b $$\n",
    "\n",
    "$$ -b = exp(-(x_1^2 + x_2^2)) $$\n",
    "\n",
    "$$ -ln(-b) = x_1^2 + x_2^2 $$\n",
    "\n",
    "Therefore, it is a circle centered around the origin with radius $\\sqrt{-ln(-b)}$. Obviously this is only valid when $-1 < b < 0$.\n",
    "\n",
    "---\n",
    "\n",
    "Supposed now we add weight, \n",
    "\n",
    "$$ y = exp(-(w_1x_1^2 + w_2x_2^2)) + b$$\n",
    "\n",
    "_what shapes can we realize now?  Explain in at most 5 sentences and/or a little math. You\n",
    "can make references to publicly available in the internet materials to explain._\n",
    "\n",
    "$$ -ln(-b) = w_1x_1^2 + w_2x_2^2 $$\n",
    "\n",
    "$$ -ln(-b) = \\frac{x_1^2}{w_1^{-1}} + \\frac{x_2^2}{w_2^{-1}} $$\n",
    "\n",
    "$$ 1 = \\frac{x_1^2}{-ln(-b) \\cdot w_1^{-1}} + \\frac{x_2^2}{-ln(-b) \\cdot w_2^{-1}} $$\n",
    "\n",
    "$$ 1 = \\left(\\frac{x_1}{ \\sqrt{-ln(-b) \\cdot w_1^{-1}}}\\right)^2 + \\left(\\frac{x_2}{\\sqrt{-ln(-b) \\cdot w_2^{-1}}}\\right)^2 $$\n",
    "\n",
    "hence it is an ellipse, centered around the origin with radius $\\sqrt{-ln(-b) \\cdot w_1^{-1}}$ along the $x_1$ axis and radius $\\sqrt{-ln(-b) \\cdot w_2^{-1}}$ along the $x_2$ axis.\n",
    "\n",
    "---\n",
    "\n",
    "**Q3** Suppose you have five linear neurons neurons n1, . . . , n5, realizing above decision boundaries\n",
    "as shown in Figure 1. That is: for every decision boundary we have outputs are = 0.5 in the zones\n",
    "marked with red plusses, and = 0.2 in the zones marked with the blue minuses.\n",
    "\n",
    "![figure1](figure1.jpg)\n",
    "\n",
    "As you know,\n",
    "each neuron is realized by:\n",
    "\n",
    "$$ n_i = 0.3H(w^{(i)}_1x_1 + w^{(i)}_2 x_2 + b^{(i)}) + 0.2, \\quad H(z) ∈ {0, 1} $$\n",
    "\n",
    "where H is the threshold activation function. You want to predict positive values in a shape marked in green in Figure 1. You want to achieve this prediction by combining these neurons using a threshold neuron H:\n",
    "\n",
    "$$ y = H(\\sum_{i} v_i^* n_i + b^*) $$\n",
    "\n",
    "[1] _what do you have to do with the weights of $n_5$ so that you can move the decision boundary\n",
    "of $n_5$ so that you can realize the shape in green shown above (in the sense of having positive\n",
    "values inside and negative values outside.)? Give a qualitative description. Note: Give a\n",
    "qualitative description in 3 sentences at most. Note that there is an x- and an y-axis, which\n",
    "helps you to express vectors qualitatively._\n",
    "\n",
    "The position of the decision boundary of $n_5$ depends on its weight and biases. Particularly, the ratio between $w_1$ and $w_2$ determines the slant of the boundary, while the ratio between the $b$ and $w_2$ determines its offset from origin. As the desired position is a shift upwards (given that the boundary continues infinitely), we want to decrease $b$ so that the boundaries shift upwards.\n"
   ]
  },
  {
   "cell_type": "markdown",
   "metadata": {},
   "source": [
    "[2] _after moving the decision boundary of n5 appropriately, the green shape looks a bit like an\n",
    "logical AND-combination of the +-zones for every neuron. How to choose the weights $v^∗_i$ and the bias $b^∗$ in $ y = H(\\sum_{i} v_i^* n_i + b^*) $ so that you can realize the green shape (in the sense of having positive values inside and\n",
    "negative values outside that shape)? Note: $n_i$ gives out values either 0.5 or 0.2_\n",
    "\n",
    "Lets say that function $H$ has a threshold $h = 0$, such that\n",
    "\n",
    "$$ H(z) = 1[z > h] = 1[z > 0] $$\n",
    "\n",
    "If we were to take green area as {+1}, for the threshold neuron to fire $+1$, we will need all neurons $n_i$ to fire 0.5,\n",
    "\n",
    "$$ 1 = H(\\sum_{i} 0.5 v_i^* +b^*) $$\n",
    "\n",
    "$$ 1 = 1[(\\sum_{i} 0.5 v_i^* +b^*) > 0] $$\n",
    "\n",
    "$$ (\\sum_{i} 0.5 v_i^* +b^*) > 0 \\quad -- \\quad (1)$$\n",
    "\n",
    "If we were to take non-green area as {-1}, for the threshold neuron to fire $-1$, we will need at least one neuron $n_j$ to fire 0.2,\n",
    "\n",
    "$$ 0 = H(\\sum_{i-1}  v_i^* n_i + v_j^* n_j + b^*) $$\n",
    "\n",
    "$$ 0 = H(\\sum_{i-1}  0.5v_i^* + 0.2v_j^* + b^*) $$\n",
    "\n",
    "$$ 0 = 1[\\sum_{i-1}  0.5v_i^* + 0.2v_j^* + b^* > 0] $$\n",
    "\n",
    "$$ \\sum_{i-1}  0.5v_i^* + 0.2v_j^* + b^* <= 0 \\quad -- \\quad (2) $$\n",
    "\n",
    "For simplicity, we set $v_i^* = 1$ for all $i$. Finding $b$, \n",
    "\n",
    "$$ 0.5 \\cdot 5 +b^* > 0 \\quad -- \\quad (1)$$\n",
    "\n",
    "$$ 2.5 + b^* > 0 $$\n",
    "\n",
    "$$ b^* > -2.5 $$\n",
    "\n",
    "$$ 0.5 \\cdot 4 + 0.2 + b^* <= 0 \\quad -- \\quad (2) $$\n",
    "\n",
    "$$ 2.2 + b^* <= 0 $$\n",
    "\n",
    "$$ b^* <= -2.2 $$\n",
    "\n",
    "$$ therefore \\quad -2.5 < b <= -2.2 $$\n",
    "\n",
    "we can pick any $b$ within this range, e.g. $ b = -2.4 $ with our $ v_i^* = 1$, such that\n",
    "\n",
    "$$ H(\\sum_{i} 0.5  -2.4 ) = H(2.5 - 2.4) \\quad for\\space all\\space n_i = 0.5$$\n",
    "$$ = H(0.1) = 1[0.1 > 0] = 1 \\quad (green)$$\n",
    "\n",
    "$$ H(\\sum_{i-1} 0.5 + 0.2  -2.4 ) = H(2.2 - 2.4) \\quad for\\space four\\space n_i = 0.5 \\space and\\space one\\space n_j = 0.2$$\n",
    "$$ = H(-0.2) = 1[-0.2 > 0] = 0 \\quad (outside)$$\n"
   ]
  },
  {
   "cell_type": "markdown",
   "metadata": {},
   "source": [
    "### Coding - Part 1\n",
    "\n",
    "For this section, there is a script called `hw4_code.py` that will hold some definitions e.g. the `FlowerDataset` class and `train_model` function.\n",
    "\n",
    "Below we will do some sanity check on the dataset."
   ]
  },
  {
   "cell_type": "code",
   "execution_count": 3,
   "metadata": {},
   "outputs": [
    {
     "name": "stdout",
     "output_type": "stream",
     "text": [
      "label: 45\n",
      "label: 87\n",
      "label: 20\n"
     ]
    }
   ],
   "source": [
    "from hw4_code import *\n",
    "import matplotlib.pyplot as plt\n",
    "from torchvision import transforms\n",
    "\n",
    "# testing dataset\n",
    "flower_dataset = FlowerDataset('..\\\\datasets\\\\flowersstuff\\\\102flowers\\\\flowers_data', mode='train')\n",
    "flower_dataset_val = FlowerDataset('..\\\\datasets\\\\flowersstuff\\\\102flowers\\\\flowers_data', mode='val')\n",
    "\n",
    "for i in range(3):\n",
    "    flower1 = flower_dataset[i]\n",
    "    print('label:',flower1['label'])\n",
    "    image = transforms.ToPILImage()(flower1['image'])\n",
    "\n",
    "    invTrans = transforms.Compose([ transforms.Normalize(mean = [ 0., 0., 0. ],\n",
    "                                                         std = [ 1/0.229, 1/0.224, 1/0.225 ]),\n",
    "                                    transforms.Normalize(mean = [ -0.485, -0.456, -0.406 ],\n",
    "                                                         std = [ 1., 1., 1. ]),\n",
    "                                    transforms.ToPILImage(),\n",
    "                                   ])\n",
    "    clear_image = invTrans(flower1['image'])\n",
    "\n",
    "    plt.figure()\n",
    "    plt.subplot(121)\n",
    "    plt.imshow(clear_image)\n",
    "    plt.title('original')\n",
    "    plt.subplot(122)\n",
    "    plt.imshow(image)\n",
    "    plt.title('normalized')"
   ]
  },
  {
   "cell_type": "markdown",
   "metadata": {},
   "source": [
    "We will then use resnet models to classify our flowers."
   ]
  },
  {
   "cell_type": "code",
   "execution_count": 4,
   "metadata": {},
   "outputs": [],
   "source": [
    "# Getting pretrained resnet\n",
    "from torchvision import models\n",
    "\n",
    "def get_pretrained_resnet(use_gpu=True):\n",
    "    model = models.resnet18(pretrained=True)\n",
    "    if use_gpu:\n",
    "        model = model.cuda(0)\n",
    "    return model\n",
    "\n",
    "resnetmodel = get_pretrained_resnet()\n",
    "resnet_dict = resnetmodel.state_dict()\n",
    "# for k in resnet_dict.keys():\n",
    "#     if 'bn' not in k and 'down' not in k:\n",
    "#         # printing any statedict without batch-norm and downsample\n",
    "#         print(k)"
   ]
  },
  {
   "cell_type": "code",
   "execution_count": 5,
   "metadata": {},
   "outputs": [
    {
     "name": "stdout",
     "output_type": "stream",
     "text": [
      "\n",
      "\n",
      "With learning rate 0.1,\n",
      "\n",
      "[train] - Epoch 0..\n",
      "      >> Epoch loss 1.84155 accuracy 0.032                      in 446.3549s\n",
      "[val] - Epoch 0..\n",
      "      >> Epoch loss 1.62162 accuracy 0.088                      in 28.9867s\n",
      "\n",
      "\n",
      "With learning rate 1,\n",
      "\n",
      "[train] - Epoch 0..\n",
      "      >> Epoch loss 0.68266 accuracy 0.462                      in 437.4866s\n",
      "[val] - Epoch 0..\n",
      "      >> Epoch loss 0.20868 accuracy 0.795                      in 33.7598s\n",
      "\n",
      "\n",
      "With learning rate 10,\n",
      "\n",
      "[train] - Epoch 0..\n",
      "      >> Epoch loss 0.44307 accuracy 0.559                      in 438.3159s\n",
      "[val] - Epoch 0..\n",
      "      >> Epoch loss 0.15011 accuracy 0.837                      in 28.1213s\n"
     ]
    }
   ],
   "source": [
    "# training with various learn rate\n",
    "for lr in [0.1, 1, 10]:\n",
    "    print(\"\\n\\nWith learning rate {},\\n\".format(lr))\n",
    "    learnrate = lr\n",
    "    optimizer = optim.SGD(resnetmodel.parameters(), lr=learnrate, momentum=0.9)\n",
    "\n",
    "    trainedmodel = train_model(flower_dataset, resnetmodel, optimizer, \n",
    "                               epoch=1, mode='train', use_gpu=True, print_every=1)\n",
    "    trainedmodel = train_model(flower_dataset_val, trainedmodel, optimizer, \n",
    "                               epoch=1, mode='val', use_gpu=True, print_every=1)"
   ]
  },
  {
   "cell_type": "code",
   "execution_count": 6,
   "metadata": {},
   "outputs": [],
   "source": [
    "# now lets do the same thing, but train with an empty resnet\n",
    "\n",
    "def get_empty_resnet(use_gpu=True):\n",
    "    model = models.resnet18(pretrained=False)\n",
    "    if use_gpu:\n",
    "        model = model.cuda(0)\n",
    "    return model\n",
    "\n",
    "emptymodel = get_pretrained_resnet()\n",
    "empty_dict = resnetmodel.state_dict()\n",
    "# for k in empty_dict.keys():\n",
    "#     if 'bn' not in k and 'down' not in k:\n",
    "#         # printing any statedict without batch-norm and downsample\n",
    "#         print(k)"
   ]
  },
  {
   "cell_type": "code",
   "execution_count": 7,
   "metadata": {},
   "outputs": [
    {
     "name": "stdout",
     "output_type": "stream",
     "text": [
      "\n",
      "\n",
      "With learning rate 0.1,\n",
      "\n",
      "[train] - Epoch 0..\n",
      "      >> Epoch loss 1.84189 accuracy 0.033                      in 437.1789s\n",
      "[val] - Epoch 0..\n",
      "      >> Epoch loss 1.61854 accuracy 0.087                      in 28.1587s\n",
      "\n",
      "\n",
      "With learning rate 1,\n",
      "\n",
      "[train] - Epoch 0..\n",
      "      >> Epoch loss 0.68072 accuracy 0.458                      in 439.9016s\n",
      "[val] - Epoch 0..\n",
      "      >> Epoch loss 0.20165 accuracy 0.789                      in 27.8535s\n",
      "\n",
      "\n",
      "With learning rate 10,\n",
      "\n",
      "[train] - Epoch 0..\n",
      "      >> Epoch loss 0.43625 accuracy 0.569                      in 435.8893s\n",
      "[val] - Epoch 0..\n",
      "      >> Epoch loss 0.15598 accuracy 0.828                      in 27.9031s\n"
     ]
    }
   ],
   "source": [
    "# training with various learn rate\n",
    "for lr in [0.1, 1, 10]:\n",
    "    print(\"\\n\\nWith learning rate {},\\n\".format(lr))\n",
    "    learnrate = lr\n",
    "    optimizer = optim.SGD(emptymodel.parameters(), lr=learnrate, momentum=0.9)\n",
    "\n",
    "    trainedmodel = train_model(flower_dataset, emptymodel, optimizer, \n",
    "                               epoch=1, mode='train', use_gpu=True, print_every=1)\n",
    "    trainedmodel = train_model(flower_dataset_val, trainedmodel, optimizer, \n",
    "                               epoch=1, mode='val', use_gpu=True, print_every=1)"
   ]
  },
  {
   "cell_type": "code",
   "execution_count": 8,
   "metadata": {},
   "outputs": [],
   "source": [
    "# now lets do the same thing, but train with an empty resnet\n",
    "import torch.nn as nn\n",
    "\n",
    "def get_unfrozen_resnet(numcl, use_gpu=True):\n",
    "    model = models.resnet18(pretrained=False)\n",
    "    num_ftrs = model.fc.in_features\n",
    "    model.fc = nn.Linear(num_ftrs, numcl)\n",
    "    if use_gpu:\n",
    "        model = model.cuda(0)\n",
    "    return model\n",
    "\n",
    "unfrozenmodel = get_pretrained_resnet()\n",
    "unfrozen_dict = resnetmodel.state_dict()\n",
    "# for k in unfrozen_dict.keys():\n",
    "#     if 'bn' not in k and 'down' not in k:\n",
    "#         # printing any statedict without batch-norm and downsample\n",
    "#         print(k)"
   ]
  },
  {
   "cell_type": "code",
   "execution_count": 9,
   "metadata": {},
   "outputs": [
    {
     "name": "stdout",
     "output_type": "stream",
     "text": [
      "\n",
      "\n",
      "With learning rate 0.1,\n",
      "\n",
      "[train] - Epoch 0..\n",
      "      >> Epoch loss 1.84166 accuracy 0.033                      in 437.0670s\n",
      "[val] - Epoch 0..\n",
      "      >> Epoch loss 1.62038 accuracy 0.092                      in 28.1243s\n",
      "\n",
      "\n",
      "With learning rate 1,\n",
      "\n",
      "[train] - Epoch 0..\n",
      "      >> Epoch loss 0.68146 accuracy 0.461                      in 436.3131s\n",
      "[val] - Epoch 0..\n",
      "      >> Epoch loss 0.20818 accuracy 0.784                      in 27.8541s\n",
      "\n",
      "\n",
      "With learning rate 10,\n",
      "\n",
      "[train] - Epoch 0..\n",
      "      >> Epoch loss 0.43975 accuracy 0.566                      in 435.7458s\n",
      "[val] - Epoch 0..\n",
      "      >> Epoch loss 0.18098 accuracy 0.817                      in 27.9208s\n"
     ]
    }
   ],
   "source": [
    "# training with various learn rate\n",
    "for lr in [0.1, 1, 10]:\n",
    "    print(\"\\n\\nWith learning rate {},\\n\".format(lr))\n",
    "    learnrate = lr\n",
    "    optimizer = optim.SGD(unfrozenmodel.parameters(), lr=learnrate, momentum=0.9)\n",
    "\n",
    "    trainedmodel = train_model(flower_dataset, unfrozenmodel, optimizer, \n",
    "                               epoch=1, mode='train', use_gpu=True, print_every=1)\n",
    "    trainedmodel = train_model(flower_dataset_val, trainedmodel, optimizer, \n",
    "                               epoch=1, mode='val', use_gpu=True, print_every=1)"
   ]
  },
  {
   "cell_type": "code",
   "execution_count": null,
   "metadata": {},
   "outputs": [],
   "source": []
  },
  {
   "cell_type": "code",
   "execution_count": 10,
   "metadata": {},
   "outputs": [
    {
     "name": "stdout",
     "output_type": "stream",
     "text": [
      "samples with positive class: 2000 \n",
      "samples with negative class: 8000\n"
     ]
    },
    {
     "data": {
      "text/plain": [
       "[<matplotlib.lines.Line2D at 0x2000c26a0b8>]"
      ]
     },
     "execution_count": 10,
     "metadata": {},
     "output_type": "execute_result"
    },
    {
     "data": {
      "image/png": "[encoded data removed]",
      "text/plain": [
       "<matplotlib.figure.Figure at 0x2000c18c9b0>"
      ]
     },
     "metadata": {},
     "output_type": "display_data"
    }
   ],
   "source": [
    "from hw4_code2 import *\n",
    "import numpy as np\n",
    "\n",
    "data, label = from_text('samplestr.txt')\n",
    "true_mask = label.reshape((-1)).astype(bool)\n",
    "false_mask = (1-label).reshape((-1)).astype(bool)\n",
    "\n",
    "data_true = np.transpose(data[true_mask])\n",
    "data_false = np.transpose(data[false_mask])\n",
    "\n",
    "print('samples with positive class:', len(data_true[0]),\n",
    "      '\\nsamples with negative class:', len(data_false[0]))\n",
    "\n",
    "plt.plot(data_true[0], data_true[1], '.b')\n",
    "plt.plot(data_false[0], data_false[1], '.r')"
   ]
  },
  {
   "cell_type": "code",
   "execution_count": 54,
   "metadata": {},
   "outputs": [
    {
     "name": "stdout",
     "output_type": "stream",
     "text": [
      "OurNet(\n",
      "  (fc): Linear(in_features=2, out_features=1, bias=True)\n",
      ")\n"
     ]
    }
   ],
   "source": [
    "'''\n",
    "Creating a new Neural Network\n",
    "'''\n",
    "from torch import nn\n",
    "import torch.nn.functional as F\n",
    "\n",
    "class OurNet(nn.Module):\n",
    "    def __init__(self):\n",
    "        super(OurNet, self).__init__()\n",
    "        self.fc = nn.Linear(2, 1)\n",
    "    \n",
    "    def forward(self, x):\n",
    "        x = F.relu(self.fc(x))\n",
    "        return x\n",
    "\n",
    "our_net = OurNet()\n",
    "print(our_net)"
   ]
  },
  {
   "cell_type": "code",
   "execution_count": 55,
   "metadata": {},
   "outputs": [
    {
     "name": "stdout",
     "output_type": "stream",
     "text": [
      "train: {'data': tensor([ 0.7959,  0.3896], dtype=torch.float64), 'label': tensor([ 0.], dtype=torch.float64)}\n",
      "test: {'data': tensor([-0.5324, -0.7683], dtype=torch.float64), 'label': tensor([ 0.], dtype=torch.float64)}\n"
     ]
    }
   ],
   "source": [
    "# testing the Dataset subclass from hw4_code2\n",
    "\n",
    "train_set = ImbaDataset('.', mode='train')\n",
    "print('train:',train_set[2])\n",
    "test_set = ImbaDataset('.', mode='test')\n",
    "print('test:', test_set[2])"
   ]
  },
  {
   "cell_type": "code",
   "execution_count": 78,
   "metadata": {},
   "outputs": [],
   "source": [
    "# simple training\n",
    "import torch\n",
    "from torch.utils.data import DataLoader\n",
    "import torch.optim as optim\n",
    "from torch.autograd import Variable\n",
    "from torch.utils.data.sampler import WeightedRandomSampler\n",
    "\n",
    "our_net = OurNet().double()\n",
    "optimizer = optim.SGD(our_net.parameters(), lr=0.1)\n",
    "criterion = nn.BCEWithLogitsLoss()\n",
    "\n",
    "def train_ournet(dataset, model, optimizer, criterion, batch_sampler=None, \n",
    "                 mode='train', positive_weight=1):\n",
    "    '''\n",
    "    positive_weight : weight of the accuracy of positive classes compared to negative classes\n",
    "                      e.g. 2 means positive classes has 2x the weight of negative classes\n",
    "    '''\n",
    "    print_truecount = True\n",
    "    if batch_sampler:\n",
    "        loader = DataLoader(dataset, batch_sampler=batch_sampler)\n",
    "    else:\n",
    "        loader = DataLoader(dataset, batch_size=128)\n",
    "    running_loss = 0\n",
    "    running_corrects = 0\n",
    "    total_data = 0\n",
    "    \n",
    "    for inputdata in loader:\n",
    "        data = Variable(inputdata['data'])\n",
    "        labels = Variable(inputdata['label']).view(-1,1)\n",
    "        if print_truecount:\n",
    "            print('True count:', labels.sum().item(), 'out of', len(labels), \n",
    "                  \"({}%)\".format(labels.sum().item() * 100 / len(labels)))\n",
    "            print_truecount = False\n",
    "        \n",
    "        outputs = model.forward(data)\n",
    "        predictions = (outputs > 0)\n",
    "#         predictions = predictions.view(-1,1)\n",
    "#         print(predictions)\n",
    "        \n",
    "#         print(outputs.shape, predictions.shape, labels.shape)\n",
    "\n",
    "        loss = criterion(outputs, labels)\n",
    "        if mode == 'train':\n",
    "            loss.backward()\n",
    "            optimizer.step()    \n",
    "            \n",
    "        # balanced stuff\n",
    "        total_data = len(labels) + (positive_weight - 1) * labels.sum().item()\n",
    "        corrects = (predictions.double().cpu() == labels.cpu()).double()\n",
    "        weights = (positive_weight - 1) * labels.cpu() + 1\n",
    "        \n",
    "#         print(corrects, weights)\n",
    "        \n",
    "        running_corrects += (corrects * weights).sum().item() #/ float(128*100)\n",
    "        running_loss += loss.item()\n",
    "\n",
    "        \n",
    "    running_corrects /= float(128*100)\n",
    "    if mode == 'train':\n",
    "        print(\"Trained with accuracy {} and loss {}\\n\".format(running_corrects, running_loss))\n",
    "    elif mode == 'test':\n",
    "        print(\"Tested with accuracy {} and loss {}\\n\".format(running_corrects, running_loss))\n",
    "    return model\n",
    "    \n"
   ]
  },
  {
   "cell_type": "code",
   "execution_count": 79,
   "metadata": {},
   "outputs": [
    {
     "name": "stdout",
     "output_type": "stream",
     "text": [
      "True count: 0.0 out of 128 (0.0%)\n",
      "Trained with accuracy 0.661875 and loss 50.083123524533946\n",
      "\n",
      "True count: 0.0 out of 128 (0.0%)\n",
      "Tested with accuracy 0.469140625 and loss 137.29122373346388\n",
      "\n",
      "True count: 0.0 out of 128 (0.0%)\n",
      "Tested with accuracy 0.469453125 and loss 138.7583834355911\n",
      "\n",
      "OrderedDict([('fc.weight', tensor([[ 4.5108, -2.6470]], dtype=torch.float64)), ('fc.bias', tensor([-18.0480], dtype=torch.float64))])\n"
     ]
    }
   ],
   "source": [
    "our_net_trained = train_ournet(train_set, our_net, optimizer, criterion)\n",
    "our_net_trained = train_ournet(train_set, our_net_trained, optimizer, criterion, mode='test')   \n",
    "our_net_trained = train_ournet(test_set, our_net_trained, optimizer, criterion, mode='test')\n",
    "print(our_net_trained.state_dict())"
   ]
  },
  {
   "cell_type": "code",
   "execution_count": 80,
   "metadata": {},
   "outputs": [
    {
     "data": {
      "text/plain": [
       "[<matplotlib.lines.Line2D at 0x20010a8d908>]"
      ]
     },
     "execution_count": 80,
     "metadata": {},
     "output_type": "execute_result"
    },
    {
     "data": {
      "image/png": "[encoded data removed]",
      "text/plain": [
       "<matplotlib.figure.Figure at 0x2000b6b5f28>"
      ]
     },
     "metadata": {},
     "output_type": "display_data"
    }
   ],
   "source": [
    "w = our_net_trained.state_dict()['fc.weight']\n",
    "b = our_net_trained.state_dict()['fc.bias']\n",
    "w1 = w[0,0].item()\n",
    "w2 = w[0,1].item()\n",
    "b1 = b[0].item()\n",
    "\n",
    "m = -w1/w2\n",
    "c = -b/w2\n",
    "\n",
    "line_x = [ i/100 for i in range(-300, 700)]\n",
    "line_y = [ m*i + c for i in line_x]\n",
    "\n",
    "plt.plot(data_true[0], data_true[1], '.b')\n",
    "plt.plot(data_false[0], data_false[1], '.r')\n",
    "plt.plot(line_x, line_y, '.c')"
   ]
  },
  {
   "cell_type": "markdown",
   "metadata": {},
   "source": [
    "To achieve 50-50 on minibatches, we need a Sampler subclass."
   ]
  },
  {
   "cell_type": "code",
   "execution_count": 81,
   "metadata": {},
   "outputs": [
    {
     "name": "stdout",
     "output_type": "stream",
     "text": [
      "train sampler built\n",
      "test sampler built\n"
     ]
    }
   ],
   "source": [
    "class OurBatchSampler(object):\n",
    "    r\"\"\"\n",
    "    Special batch sampler class that ensures a 50-50\n",
    "    dataset classes.\n",
    "    \"\"\"\n",
    "\n",
    "    def __init__(self, dataset, batch_size, iteration):\n",
    "        self.dataset = dataset\n",
    "        self.batch_size = batch_size\n",
    "        self.iteration = iteration\n",
    "        \n",
    "        self.idx_plus = [idx for idx in range(len(dataset)) if dataset[idx]['label'].item() > 0]\n",
    "        self.idx_minus = [idx for idx in range(len(dataset)) if idx not in self.idx_plus]\n",
    "\n",
    "    def __iter__(self):\n",
    "        batch = []\n",
    "        for i in range(self.iteration):\n",
    "            idplus = np.random.choice(self.idx_plus, self.batch_size // 2).tolist()\n",
    "            idminus = np.random.choice(self.idx_minus, self.batch_size // 2).tolist()\n",
    "            batch += idplus + idminus\n",
    "                \n",
    "            yield batch\n",
    "            batch = []\n",
    "\n",
    "    def __len__(self):\n",
    "        return self.batch_size * self.iteration\n",
    "\n",
    "train_sampler = OurBatchSampler(train_set, 128, 100)\n",
    "print('train sampler built')\n",
    "test_sampler = OurBatchSampler(test_set, 128, 100)\n",
    "print('test sampler built')"
   ]
  },
  {
   "cell_type": "code",
   "execution_count": 82,
   "metadata": {},
   "outputs": [
    {
     "name": "stdout",
     "output_type": "stream",
     "text": [
      "True count: 64.0 out of 128 (50.0%)\n",
      "Trained with accuracy 0.608984375 and loss 71.24207535309189\n",
      "\n",
      "True count: 64.0 out of 128 (50.0%)\n",
      "Tested with accuracy 0.5 and loss 69.31471805599467\n",
      "\n",
      "True count: 64.0 out of 128 (50.0%)\n",
      "Tested with accuracy 0.49984375 and loss 69.35526205653024\n",
      "\n",
      "OrderedDict([('fc.weight', tensor([[-22.7017, -17.4655]], dtype=torch.float64)), ('fc.bias', tensor([-48.6803], dtype=torch.float64))])\n"
     ]
    }
   ],
   "source": [
    "our_net_trained = train_ournet(train_set, our_net, optimizer, criterion, \n",
    "                               batch_sampler=train_sampler, positive_weight=4)\n",
    "our_net_trained = train_ournet(train_set, our_net_trained, optimizer, \n",
    "                               criterion, batch_sampler=train_sampler, mode='test', positive_weight=4)   \n",
    "our_net_trained = train_ournet(test_set, our_net_trained, optimizer, \n",
    "                               criterion, batch_sampler=train_sampler, mode='test', positive_weight=4)\n",
    "print(our_net_trained.state_dict())"
   ]
  },
  {
   "cell_type": "code",
   "execution_count": 83,
   "metadata": {},
   "outputs": [
    {
     "data": {
      "text/plain": [
       "[<matplotlib.lines.Line2D at 0x2000c7b14e0>]"
      ]
     },
     "execution_count": 83,
     "metadata": {},
     "output_type": "execute_result"
    },
    {
     "data": {
      "image/png": "[encoded data removed]",
      "text/plain": [
       "<matplotlib.figure.Figure at 0x20010b8a7b8>"
      ]
     },
     "metadata": {},
     "output_type": "display_data"
    }
   ],
   "source": [
    "w = our_net_trained.state_dict()['fc.weight']\n",
    "b = our_net_trained.state_dict()['fc.bias']\n",
    "w1 = w[0,0].item()\n",
    "w2 = w[0,1].item()\n",
    "b1 = b[0].item()\n",
    "\n",
    "m = -w1/w2\n",
    "c = -b/w2\n",
    "\n",
    "line_x = [ i/100 for i in range(-300, 700)]\n",
    "line_y = [ m*i + c for i in line_x]\n",
    "\n",
    "plt.plot(data_true[0], data_true[1], '.b')\n",
    "plt.plot(data_false[0], data_false[1], '.r')\n",
    "plt.plot(line_x, line_y, '.c')"
   ]
  },
  {
   "cell_type": "code",
   "execution_count": null,
   "metadata": {},
   "outputs": [],
   "source": []
  }
 ],
 "metadata": {
  "kernelspec": {
   "display_name": "Python 3",
   "language": "python",
   "name": "python3"
  },
  "language_info": {
   "codemirror_mode": {
    "name": "ipython",
    "version": 3
   },
   "file_extension": ".py",
   "mimetype": "text/x-python",
   "name": "python",
   "nbconvert_exporter": "python",
   "pygments_lexer": "ipython3",
   "version": "3.6.4"
  }
 },
 "nbformat": 4,
 "nbformat_minor": 2
}
