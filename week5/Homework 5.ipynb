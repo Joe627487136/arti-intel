{
 "cells": [
  {
   "cell_type": "markdown",
   "metadata": {},
   "source": [
    "## Homework 5\n",
    "### Theory Part"
   ]
  },
  {
   "cell_type": "markdown",
   "metadata": {},
   "source": [
    "**[Q1]** Consider the following 3 × 3 filter.\n",
    "\n",
    "$$ w = \\begin{bmatrix}\n",
    "        -3 & 0 & 3 \\\\\n",
    "        -4 & 0 & 4 \\\\\n",
    "        -3 & 0 & 3 \n",
    "       \\end{bmatrix} $$\n",
    "       \n",
    "This filter w is applied to a grayscale image shown in Figure 1. \n",
    "\n",
    "![figure1](Capture.JPG)\n",
    "\n",
    "Assume that the dimension the image in Figure 1 is way larger than 3 × 3. We can express the image in terms of matrix M, each element is numbered between 0 to 1 (0 being completely black and 1 being completely white). We are applying convolution of the filter w to $M : (M ∗ w)$. Answer the following questions,\n",
    "\n",
    "---\n",
    "\n",
    "**1) For which part of the image will the filter return a number thats furthest possible from\n",
    "zero (very positive or very negative)? (ignore the arrow and the words, thats for the next\n",
    "question) Give a max of 3 sentences explanation.**\n",
    "\n",
    "ANSWER: Furthest possible from zero means that the left side (which will have negative weight) will be closest to 0, while the right side (with positive weight) will be the closest to 1, or the other way around. In this case, the left side and right side of the circle is the furthest from zero, left side having negative number and right side having positive.\n",
    "\n",
    "**2) Will the convolution output at the location indicated in Figure 1 be positive, negative, or\n",
    "zero in value? Give a max of 3 sentences explanation.**\n",
    "\n",
    "ANSWER: It will be zero in value. The location pointed have the same color from left to right, hence the left column will cancel the right column, resulting in 0 output.\n",
    "\n",
    "---"
   ]
  },
  {
   "cell_type": "markdown",
   "metadata": {},
   "source": [
    "**[Q2]** Figure 2 illustrates the before and after effect of a blurring filter when applied on a greyscale\n",
    "image. \n",
    "\n",
    "![figure2](Capture2.JPG)\n",
    "\n",
    "\n",
    "Blurring is an operation that makes strong edges weaker by some kind of averaging. Black\n",
    "pixels take a value of 0 and white pixes take a value of 1. Assume that the blurring effect is done\n",
    "using the following 5 by 5 filters with stride 1, and there’s enough zero padding on the image\n",
    "before processing so that the filter will fit on the edges.\n",
    "Determine whether each of the filters below can or cannot give a blurring effect and give your\n",
    "reason in not more than 2 sentences :\n",
    "\n",
    "\n",
    "\n",
    "1) $ \\frac{1}{10} \\begin{bmatrix}\n",
    "                    0 & 0 & 0 & 0 & 0\\\\\n",
    "                    0 & 0 & 1 & 0 & 0 \\\\\n",
    "                    0 & 1 & -4 & 1 & 0 \\\\\n",
    "                    0 & 0 & 1 & 0 & 0 \\\\\n",
    "                    0 & 0 & 0 & 0 & 0\n",
    "                   \\end{bmatrix}$ ANSWER: will not give blurring effect, as it takes the difference between a pixel and for neighbouring pixels (not averaging).\n",
    "                   \n",
    "2) $ \\frac{1}{4} \\begin{bmatrix}\n",
    "                    0 & 0 & 0 & 0 & 0 \\\\\n",
    "                    0 & 0 & 0 & 0 & 0 \\\\\n",
    "                    0 & 0 & 1 & 1 & 0 \\\\\n",
    "                    0 & 0 & 1 & 1 & 0 \\\\\n",
    "                    0 & 0 & 0 & 0 & 0 \\\\\n",
    "                 \\end{bmatrix}$ ANSWER: will give blurring effect, as it averages the pixel with the pixel on the right and below it.\n",
    "                 \n",
    "3) $ \\begin{bmatrix}\n",
    "                    0 & 5 & 0 & 5 & 0 \\\\\n",
    "                    0 & 2 & 0 & 2 & 0 \\\\\n",
    "                    0 & 0 & 0 & 0 & 0 \\\\\n",
    "                    0 & -2 & 0 & -2 & 0 \\\\\n",
    "                    0 & -5 & 0 & -5 & 0 \\\\\n",
    "                 \\end{bmatrix}$ ANSWER: will not give blurring effect; positive weight on top and negative weight below detects edges.\n",
    "                 \n",
    "4) $ \\frac{1}{150} \\begin{bmatrix}\n",
    "                    3 & 4 & 8 & 4 & 3 \\\\\n",
    "                    4 & 7 & 9 & 7 & 4 \\\\\n",
    "                    8 & 9 & 10 & 9 & 8 \\\\\n",
    "                    4 & 7 & 9 & 7 & 4 \\\\\n",
    "                    3 & 4 & 8 & 4 & 3 \\\\\n",
    "                 \\end{bmatrix}$ ANSWER: will give blurring effect; it takes all neighbouring pixel in some proportion. Looks like gaussian blurring.\n"
   ]
  },
  {
   "cell_type": "markdown",
   "metadata": {},
   "source": [
    "**[Q3]** Does the following neural networks suffer strongly from the vanishing gradient problem?\n",
    "Give your reason in not more than 2 sentences.\n",
    "\n",
    "1. **1-Layer Feed-Foward NN**: _very few layers & backprop; **does not suffer from vanishing gradient**._\n",
    "2. **Very Deep Feed-Forward NN**: _lots of layers, backprop depends very much on the next layer's gradient; **suffers greatly from vanishing gradient.**_\n",
    "3. **Recurrent NN**: _lots of gradient terms due to many time steps; **suffers greatly from vanishing gradient**._\n",
    "4. **LSTM NN**:_**does not suffer from vanishing gradient**_\n",
    "5. **ResNet**:_has shortcuts for some nodes to skip a few layer, hence **does not suffer from vanishing gradient**._\n"
   ]
  },
  {
   "cell_type": "code",
   "execution_count": null,
   "metadata": {},
   "outputs": [],
   "source": []
  }
 ],
 "metadata": {
  "kernelspec": {
   "display_name": "Python 3",
   "language": "python",
   "name": "python3"
  },
  "language_info": {
   "codemirror_mode": {
    "name": "ipython",
    "version": 3
   },
   "file_extension": ".py",
   "mimetype": "text/x-python",
   "name": "python",
   "nbconvert_exporter": "python",
   "pygments_lexer": "ipython3",
   "version": "3.6.4"
  }
 },
 "nbformat": 4,
 "nbformat_minor": 2
}
